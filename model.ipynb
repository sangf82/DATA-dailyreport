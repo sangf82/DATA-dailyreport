{
 "cells": [
  {
   "cell_type": "code",
   "execution_count": 1,
   "id": "cd018022",
   "metadata": {},
   "outputs": [],
   "source": [
    "import pandas as pd\n",
    "from prophet import Prophet\n",
    "import plotly.graph_objs as go\n",
    "import plotly.io as pio\n",
    "from plotly.subplots import make_subplots\n",
    "from statsmodels.tsa.seasonal import STL\n",
    "from main_model import MainModel"
   ]
  },
  {
   "cell_type": "code",
   "execution_count": 2,
   "id": "4b830362",
   "metadata": {},
   "outputs": [
    {
     "data": {
      "text/html": [
       "<div>\n",
       "<style scoped>\n",
       "    .dataframe tbody tr th:only-of-type {\n",
       "        vertical-align: middle;\n",
       "    }\n",
       "\n",
       "    .dataframe tbody tr th {\n",
       "        vertical-align: top;\n",
       "    }\n",
       "\n",
       "    .dataframe thead th {\n",
       "        text-align: right;\n",
       "    }\n",
       "</style>\n",
       "<table border=\"1\" class=\"dataframe\">\n",
       "  <thead>\n",
       "    <tr style=\"text-align: right;\">\n",
       "      <th></th>\n",
       "      <th>txn_date</th>\n",
       "      <th>software_product</th>\n",
       "      <th>active_merchant</th>\n",
       "      <th>new_merchant</th>\n",
       "    </tr>\n",
       "  </thead>\n",
       "  <tbody>\n",
       "    <tr>\n",
       "      <th>0</th>\n",
       "      <td>2025-06-30</td>\n",
       "      <td>Retail</td>\n",
       "      <td>207798</td>\n",
       "      <td>122</td>\n",
       "    </tr>\n",
       "    <tr>\n",
       "      <th>1</th>\n",
       "      <td>2025-06-30</td>\n",
       "      <td>Booking</td>\n",
       "      <td>13022</td>\n",
       "      <td>19</td>\n",
       "    </tr>\n",
       "  </tbody>\n",
       "</table>\n",
       "</div>"
      ],
      "text/plain": [
       "     txn_date software_product  active_merchant  new_merchant\n",
       "0  2025-06-30           Retail           207798           122\n",
       "1  2025-06-30          Booking            13022            19"
      ]
     },
     "execution_count": 2,
     "metadata": {},
     "output_type": "execute_result"
    }
   ],
   "source": [
    "df = pd.read_csv('sample.csv')\n",
    "df.head(2)"
   ]
  },
  {
   "cell_type": "code",
   "execution_count": 3,
   "id": "69d2fb57",
   "metadata": {},
   "outputs": [
    {
     "name": "stderr",
     "output_type": "stream",
     "text": [
      "01:47:10 - cmdstanpy - INFO - Chain [1] start processing\n"
     ]
    },
    {
     "name": "stdout",
     "output_type": "stream",
     "text": [
      "Anomaly detection results saved to static/anomalies_retail_20250623.csv\n"
     ]
    },
    {
     "name": "stderr",
     "output_type": "stream",
     "text": [
      "01:47:11 - cmdstanpy - INFO - Chain [1] done processing\n"
     ]
    },
    {
     "name": "stdout",
     "output_type": "stream",
     "text": [
      "Forecast results exported to: static/forecast_retail_20250623.csv\n",
      "Model performance summary exported to: static/forecast_retail_20250623_summary.csv\n",
      "Forecast chart exported to: forecast_chart_vintage_20250623_014711.png\n"
     ]
    },
    {
     "data": {
      "application/vnd.plotly.v1+json": {
       "config": {
        "plotlyServerURL": "https://plot.ly"
       },
       "data": [
        {
         "hovertemplate": "Historical: %{y:.0f}<br>Date: %{x}<extra></extra>",
         "line": {
          "color": "#5D4E75",
          "width": 2
         },
         "mode": "lines",
         "name": "Historical Data",
         "type": "scatter",
         "x": [
          "2025-03-25T00:00:00.000000000",
          "2025-03-26T00:00:00.000000000",
          "2025-03-27T00:00:00.000000000",
          "2025-03-28T00:00:00.000000000",
          "2025-03-29T00:00:00.000000000",
          "2025-03-30T00:00:00.000000000",
          "2025-03-31T00:00:00.000000000",
          "2025-04-01T00:00:00.000000000",
          "2025-04-02T00:00:00.000000000",
          "2025-04-03T00:00:00.000000000",
          "2025-04-04T00:00:00.000000000",
          "2025-04-05T00:00:00.000000000",
          "2025-04-06T00:00:00.000000000",
          "2025-04-07T00:00:00.000000000",
          "2025-04-08T00:00:00.000000000",
          "2025-04-09T00:00:00.000000000",
          "2025-04-10T00:00:00.000000000",
          "2025-04-11T00:00:00.000000000",
          "2025-04-12T00:00:00.000000000",
          "2025-04-13T00:00:00.000000000",
          "2025-04-14T00:00:00.000000000",
          "2025-04-15T00:00:00.000000000",
          "2025-04-16T00:00:00.000000000",
          "2025-04-17T00:00:00.000000000",
          "2025-04-18T00:00:00.000000000",
          "2025-04-19T00:00:00.000000000",
          "2025-04-20T00:00:00.000000000",
          "2025-04-21T00:00:00.000000000",
          "2025-04-22T00:00:00.000000000",
          "2025-04-23T00:00:00.000000000",
          "2025-04-24T00:00:00.000000000",
          "2025-04-25T00:00:00.000000000",
          "2025-04-26T00:00:00.000000000",
          "2025-04-27T00:00:00.000000000",
          "2025-04-28T00:00:00.000000000",
          "2025-04-29T00:00:00.000000000",
          "2025-04-30T00:00:00.000000000",
          "2025-05-01T00:00:00.000000000",
          "2025-05-02T00:00:00.000000000",
          "2025-05-03T00:00:00.000000000",
          "2025-05-04T00:00:00.000000000",
          "2025-05-05T00:00:00.000000000",
          "2025-05-06T00:00:00.000000000",
          "2025-05-07T00:00:00.000000000",
          "2025-05-08T00:00:00.000000000",
          "2025-05-09T00:00:00.000000000",
          "2025-05-10T00:00:00.000000000",
          "2025-05-11T00:00:00.000000000",
          "2025-05-12T00:00:00.000000000",
          "2025-05-13T00:00:00.000000000",
          "2025-05-14T00:00:00.000000000",
          "2025-05-15T00:00:00.000000000",
          "2025-05-16T00:00:00.000000000",
          "2025-05-17T00:00:00.000000000",
          "2025-05-18T00:00:00.000000000",
          "2025-05-19T00:00:00.000000000",
          "2025-05-20T00:00:00.000000000",
          "2025-05-21T00:00:00.000000000",
          "2025-05-22T00:00:00.000000000",
          "2025-05-23T00:00:00.000000000",
          "2025-05-24T00:00:00.000000000",
          "2025-05-25T00:00:00.000000000",
          "2025-05-26T00:00:00.000000000",
          "2025-05-27T00:00:00.000000000",
          "2025-05-28T00:00:00.000000000",
          "2025-05-29T00:00:00.000000000",
          "2025-05-30T00:00:00.000000000",
          "2025-05-31T00:00:00.000000000",
          "2025-06-01T00:00:00.000000000",
          "2025-06-02T00:00:00.000000000",
          "2025-06-03T00:00:00.000000000",
          "2025-06-04T00:00:00.000000000",
          "2025-06-05T00:00:00.000000000",
          "2025-06-06T00:00:00.000000000",
          "2025-06-07T00:00:00.000000000",
          "2025-06-08T00:00:00.000000000",
          "2025-06-09T00:00:00.000000000",
          "2025-06-10T00:00:00.000000000",
          "2025-06-11T00:00:00.000000000",
          "2025-06-12T00:00:00.000000000",
          "2025-06-13T00:00:00.000000000",
          "2025-06-14T00:00:00.000000000",
          "2025-06-15T00:00:00.000000000",
          "2025-06-16T00:00:00.000000000",
          "2025-06-17T00:00:00.000000000",
          "2025-06-18T00:00:00.000000000",
          "2025-06-19T00:00:00.000000000",
          "2025-06-20T00:00:00.000000000",
          "2025-06-21T00:00:00.000000000",
          "2025-06-22T00:00:00.000000000",
          "2025-06-23T00:00:00.000000000"
         ],
         "y": {
          "bdata": "AAAAAPiTCEEAAAAAyI8IQQAAAAAQiwhBAAAAAEiCCEEAAAAAyH0IQQAAAAAgfAhBAAAAAJB2CEEAAAAA4HoIQQAAAAAYgwhBAAAAANB+CEEAAAAAIHoIQQAAAACIeQhBAAAAALB0CEEAAAAAGGcIQQAAAABgZQhBAAAAALBpCEEAAAAAGGkIQQAAAACoYAhBAAAAABhYCEEAAAAAoEkIQQAAAABwNghBAAAAABg5CEEAAAAA2D4IQQAAAADQSQhBAAAAAABZCEEAAAAAqHoIQQAAAABgmAhBAAAAAAitCEEAAAAA+MUIQQAAAAAg3QhBAAAAAFDyCEEAAAAAKAIJQQAAAABwDQlBAAAAANgTCUEAAAAAEBQJQQAAAAA4HAlBAAAAACgnCUEAAAAAcCsJQQAAAACILwlBAAAAAPgyCUEAAAAAUDQJQQAAAABYMwlBAAAAAKA5CUEAAAAAkEIJQQAAAADIRQlBAAAAAPhHCUEAAAAA+EkJQQAAAADASQlBAAAAAABGCUEAAAAA6EkJQQAAAAC4TwlBAAAAAFhNCUEAAAAAiEsJQQAAAAA4TglBAAAAAGhPCUEAAAAAuEoJQQAAAAAIUAlBAAAAAJhWCUEAAAAA4FgJQQAAAABwWQlBAAAAAJBcCUEAAAAAaF4JQQAAAAAYXAlBAAAAAHhaCUEAAAAAAGQJQQAAAACYZQlBAAAAAChnCUEAAAAAeGcJQQAAAABgZQlBAAAAAOhfCUEAAAAAwGUJQQAAAAD4aglBAAAAAABsCUEAAAAAyG0JQQAAAAAQcQlBAAAAAFBxCUEAAAAAmGwJQQAAAAAYcAlBAAAAAOh2CUEAAAAAAHcJQQAAAAAodAlBAAAAALhyCUEAAAAA2HAJQQAAAAAIawlBAAAAALBwCUEAAAAA2HUJQQAAAAA4bAlBAAAAADBhCUEAAAAASF0JQQAAAABYWwlBAAAAAFBYCUE=",
          "dtype": "f8"
         }
        },
        {
         "hovertemplate": "Upper Bound: %{y:.0f}<br>Date: %{x}<extra></extra>",
         "line": {
          "color": "#8FBC8F",
          "width": 0
         },
         "name": "Upper Bound",
         "showlegend": false,
         "type": "scatter",
         "x": [
          "2025-06-23T00:00:00.000000000",
          "2025-06-24T00:00:00.000000000",
          "2025-06-25T00:00:00.000000000",
          "2025-06-26T00:00:00.000000000",
          "2025-06-27T00:00:00.000000000",
          "2025-06-28T00:00:00.000000000",
          "2025-06-29T00:00:00.000000000",
          "2025-06-30T00:00:00.000000000",
          "2025-07-01T00:00:00.000000000",
          "2025-07-02T00:00:00.000000000",
          "2025-07-03T00:00:00.000000000",
          "2025-07-04T00:00:00.000000000",
          "2025-07-05T00:00:00.000000000",
          "2025-07-06T00:00:00.000000000",
          "2025-07-07T00:00:00.000000000",
          "2025-07-08T00:00:00.000000000",
          "2025-07-09T00:00:00.000000000",
          "2025-07-10T00:00:00.000000000",
          "2025-07-11T00:00:00.000000000",
          "2025-07-12T00:00:00.000000000",
          "2025-07-13T00:00:00.000000000",
          "2025-07-14T00:00:00.000000000",
          "2025-07-15T00:00:00.000000000",
          "2025-07-16T00:00:00.000000000",
          "2025-07-17T00:00:00.000000000",
          "2025-07-18T00:00:00.000000000",
          "2025-07-19T00:00:00.000000000",
          "2025-07-20T00:00:00.000000000",
          "2025-07-21T00:00:00.000000000",
          "2025-07-22T00:00:00.000000000",
          "2025-07-23T00:00:00.000000000",
          "2025-07-24T00:00:00.000000000",
          "2025-07-25T00:00:00.000000000",
          "2025-07-26T00:00:00.000000000",
          "2025-07-27T00:00:00.000000000",
          "2025-07-28T00:00:00.000000000",
          "2025-07-29T00:00:00.000000000",
          "2025-07-30T00:00:00.000000000",
          "2025-07-31T00:00:00.000000000",
          "2025-08-01T00:00:00.000000000",
          "2025-08-02T00:00:00.000000000",
          "2025-08-03T00:00:00.000000000",
          "2025-08-04T00:00:00.000000000",
          "2025-08-05T00:00:00.000000000",
          "2025-08-06T00:00:00.000000000",
          "2025-08-07T00:00:00.000000000",
          "2025-08-08T00:00:00.000000000",
          "2025-08-09T00:00:00.000000000",
          "2025-08-10T00:00:00.000000000",
          "2025-08-11T00:00:00.000000000",
          "2025-08-12T00:00:00.000000000",
          "2025-08-13T00:00:00.000000000",
          "2025-08-14T00:00:00.000000000",
          "2025-08-15T00:00:00.000000000",
          "2025-08-16T00:00:00.000000000",
          "2025-08-17T00:00:00.000000000",
          "2025-08-18T00:00:00.000000000",
          "2025-08-19T00:00:00.000000000",
          "2025-08-20T00:00:00.000000000",
          "2025-08-21T00:00:00.000000000",
          "2025-08-22T00:00:00.000000000"
         ],
         "y": {
          "bdata": "EJwSGCRsCUEj71PTm28JQTQhEPzqdwlBqLx17It4CUGZ8pTztHcJQV59cKpVdwlBSQ9nkp14CUHJ37FQk3MJQQ7oQWmRdglBritwwsWACUGyBVj0WoMJQVhiTlhvhglBay6yqmOKCUFCZuYho4kJQe7dUb9eiAlBoHQb73iNCUGOlTL9rJcJQfTEo/fUmAlBBlkLCoubCUEeM040Tp8JQTNTtK3UnwlBpcyY4BaeCUEZAhYR3qMJQXblFcr0sQlBKpRNdzy4CUG1UOpUvL8JQZUnbv9qyQlBqwEock/RCUFC3goMp9UJQVK/1QJk3wlBummqlqfrCUFeypTl8PEJQSL3Q/1f+AlBZgoS6EkACkEqZiFcBQEKQeAEUlws/glBkjc/0QkBCkHL4UIrgA0KQR31sM+CDwpBlMHGd2IRCkHz4f93pxQKQei6oofNGQpBoZTp978YCkGJJnT2AiEKQdj6gFkdLApBua1nQSMuCkHJNDzBsjAKQY8i0XKBMQpB+ji5RuM2CkFcJmMAyjEKQXBFfUbcMQpBo8sXiIU6CkHe5MAWLD4KQRcNMl+fPQpBbeNDzEpBCkHqFJ6wwkoKQdkcTLanTgpBsBX8a3RVCkGUytejwWEKQQkYXzaebQpBaG0A6aJ7CkE=",
          "dtype": "f8"
         }
        },
        {
         "fill": "tonexty",
         "fillcolor": "rgba(143, 188, 143, 0.2)",
         "hovertemplate": "Lower Bound: %{y:.0f}<br>Date: %{x}<extra></extra>",
         "line": {
          "color": "#8FBC8F",
          "width": 0
         },
         "name": "Confidence Band",
         "showlegend": true,
         "type": "scatter",
         "x": [
          "2025-06-23T00:00:00.000000000",
          "2025-06-24T00:00:00.000000000",
          "2025-06-25T00:00:00.000000000",
          "2025-06-26T00:00:00.000000000",
          "2025-06-27T00:00:00.000000000",
          "2025-06-28T00:00:00.000000000",
          "2025-06-29T00:00:00.000000000",
          "2025-06-30T00:00:00.000000000",
          "2025-07-01T00:00:00.000000000",
          "2025-07-02T00:00:00.000000000",
          "2025-07-03T00:00:00.000000000",
          "2025-07-04T00:00:00.000000000",
          "2025-07-05T00:00:00.000000000",
          "2025-07-06T00:00:00.000000000",
          "2025-07-07T00:00:00.000000000",
          "2025-07-08T00:00:00.000000000",
          "2025-07-09T00:00:00.000000000",
          "2025-07-10T00:00:00.000000000",
          "2025-07-11T00:00:00.000000000",
          "2025-07-12T00:00:00.000000000",
          "2025-07-13T00:00:00.000000000",
          "2025-07-14T00:00:00.000000000",
          "2025-07-15T00:00:00.000000000",
          "2025-07-16T00:00:00.000000000",
          "2025-07-17T00:00:00.000000000",
          "2025-07-18T00:00:00.000000000",
          "2025-07-19T00:00:00.000000000",
          "2025-07-20T00:00:00.000000000",
          "2025-07-21T00:00:00.000000000",
          "2025-07-22T00:00:00.000000000",
          "2025-07-23T00:00:00.000000000",
          "2025-07-24T00:00:00.000000000",
          "2025-07-25T00:00:00.000000000",
          "2025-07-26T00:00:00.000000000",
          "2025-07-27T00:00:00.000000000",
          "2025-07-28T00:00:00.000000000",
          "2025-07-29T00:00:00.000000000",
          "2025-07-30T00:00:00.000000000",
          "2025-07-31T00:00:00.000000000",
          "2025-08-01T00:00:00.000000000",
          "2025-08-02T00:00:00.000000000",
          "2025-08-03T00:00:00.000000000",
          "2025-08-04T00:00:00.000000000",
          "2025-08-05T00:00:00.000000000",
          "2025-08-06T00:00:00.000000000",
          "2025-08-07T00:00:00.000000000",
          "2025-08-08T00:00:00.000000000",
          "2025-08-09T00:00:00.000000000",
          "2025-08-10T00:00:00.000000000",
          "2025-08-11T00:00:00.000000000",
          "2025-08-12T00:00:00.000000000",
          "2025-08-13T00:00:00.000000000",
          "2025-08-14T00:00:00.000000000",
          "2025-08-15T00:00:00.000000000",
          "2025-08-16T00:00:00.000000000",
          "2025-08-17T00:00:00.000000000",
          "2025-08-18T00:00:00.000000000",
          "2025-08-19T00:00:00.000000000",
          "2025-08-20T00:00:00.000000000",
          "2025-08-21T00:00:00.000000000",
          "2025-08-22T00:00:00.000000000"
         ],
         "y": {
          "bdata": "f2W5eQxMCUFc04zTsk0JQacSozDcVQlBGJUZoJlXCUFySrCW+VYJQThveCiMVglB34x8YeRUCUFApOAjClEJQVyIABC4UglB5WP18yRbCUFvaq1oq10JQaoJbLpJXwlBaDwot/hfCUEhvyPxwV4JQSUjZ/iUWQlBe0QhyZJcCUEFO65NNmIJQRx9zIGsYQlBSEvu7QdfCUFFC6OMIGAJQd9YXVHsXAlBm362VkFYCUF8zouk9lcJQRAsEMVmYAlBsttNdwRjCUFqmrdcu2UJQYt1w3H3aAlBYaAFbvRpCUG8kqv5b2oJQbyEgsHubAlBxsAk1QZ3CUFi+Unea3kJQSoW6+/OdglB+GDLTI91CUGncz1L+HIJQXFUCAY6aglB9SQ38mxnCUFsNAjrSWgJQYrvmDKjZglB8nNoh2liCUHXn0nTWl8JQUknL5t/XAlBm6Zbeb5TCUHP6KUXeVAJQZITWWOoVQlBcz/tOZdUCUEjlESW+kwJQTm+owHSRAlByLHPZ09ACUGfSuVQMDYJQVoR/mXsKwlB2tJwKEsyCUHLp3EVASwJQSRq26kSJglB/ScS5wchCUEzAMoR6R4JQeSZVPZTGwlB+m6b/DcaCUFRX7FdviIJQSWG3052KAlB7SVP8WYlCUE=",
          "dtype": "f8"
         }
        },
        {
         "hovertemplate": "Forecast: %{y:.0f}<br>Date: %{x}<extra></extra>",
         "line": {
          "color": "#CD853F",
          "dash": "dot",
          "width": 2
         },
         "mode": "lines",
         "name": "Forecast",
         "type": "scatter",
         "x": [
          "2025-06-23T00:00:00.000000000",
          "2025-06-24T00:00:00.000000000",
          "2025-06-25T00:00:00.000000000",
          "2025-06-26T00:00:00.000000000",
          "2025-06-27T00:00:00.000000000",
          "2025-06-28T00:00:00.000000000",
          "2025-06-29T00:00:00.000000000",
          "2025-06-30T00:00:00.000000000",
          "2025-07-01T00:00:00.000000000",
          "2025-07-02T00:00:00.000000000",
          "2025-07-03T00:00:00.000000000",
          "2025-07-04T00:00:00.000000000",
          "2025-07-05T00:00:00.000000000",
          "2025-07-06T00:00:00.000000000",
          "2025-07-07T00:00:00.000000000",
          "2025-07-08T00:00:00.000000000",
          "2025-07-09T00:00:00.000000000",
          "2025-07-10T00:00:00.000000000",
          "2025-07-11T00:00:00.000000000",
          "2025-07-12T00:00:00.000000000",
          "2025-07-13T00:00:00.000000000",
          "2025-07-14T00:00:00.000000000",
          "2025-07-15T00:00:00.000000000",
          "2025-07-16T00:00:00.000000000",
          "2025-07-17T00:00:00.000000000",
          "2025-07-18T00:00:00.000000000",
          "2025-07-19T00:00:00.000000000",
          "2025-07-20T00:00:00.000000000",
          "2025-07-21T00:00:00.000000000",
          "2025-07-22T00:00:00.000000000",
          "2025-07-23T00:00:00.000000000",
          "2025-07-24T00:00:00.000000000",
          "2025-07-25T00:00:00.000000000",
          "2025-07-26T00:00:00.000000000",
          "2025-07-27T00:00:00.000000000",
          "2025-07-28T00:00:00.000000000",
          "2025-07-29T00:00:00.000000000",
          "2025-07-30T00:00:00.000000000",
          "2025-07-31T00:00:00.000000000",
          "2025-08-01T00:00:00.000000000",
          "2025-08-02T00:00:00.000000000",
          "2025-08-03T00:00:00.000000000",
          "2025-08-04T00:00:00.000000000",
          "2025-08-05T00:00:00.000000000",
          "2025-08-06T00:00:00.000000000",
          "2025-08-07T00:00:00.000000000",
          "2025-08-08T00:00:00.000000000",
          "2025-08-09T00:00:00.000000000",
          "2025-08-10T00:00:00.000000000",
          "2025-08-11T00:00:00.000000000",
          "2025-08-12T00:00:00.000000000",
          "2025-08-13T00:00:00.000000000",
          "2025-08-14T00:00:00.000000000",
          "2025-08-15T00:00:00.000000000",
          "2025-08-16T00:00:00.000000000",
          "2025-08-17T00:00:00.000000000",
          "2025-08-18T00:00:00.000000000",
          "2025-08-19T00:00:00.000000000",
          "2025-08-20T00:00:00.000000000",
          "2025-08-21T00:00:00.000000000",
          "2025-08-22T00:00:00.000000000"
         ],
         "y": {
          "bdata": "twaeynFcCUHX/VSV6l4JQeyW17rjZglBRrXfH/RnCUHPCfY9C2cJQTfwIfAgZwlBusnOuSxmCUGpBD512GEJQaqFjA8gZQlBb8LWj2htCUEwnKzxRHAJQbrVBvc/cglBx1J12Gh0CUHG7OS6i3QJQYhDW0EicQlB6boxDpJ0CUGGbqJjgXsJQROqTk6ZfAlBxpy3mrR9CUG+Rwyye38JQSkp/4IGfwlBwq6/P2d7CUHP+ck8238JQYfKYgodiQlBkeVfk8GNCUE3nGh6bpMJQUCw+2b8mQlBww5XXgKeCUGuHIFG254JQRCjsowgpwlB6RXz56ixCUGq2bFgwLQJQZvMf9UQuAlBXI7hjhq8CUFOqn6ZgbsJQSoGXTUmtQlB7jWlBmW2CUEN5sup9bsJQUYamXDnuglBZenOTi66CUF5Mp32JbwJQfnJgmVuvAlBBtq1ahS4CUGlZ+lR2roJQY66Zp/EwQlBcI2UXrrBCUGYrOxyU8AJQSoCd47PvwlB9yN1MES9CUHuJXB8Q7YJQQ9lCnHbtQlBMvY2F0S5CUHG2FJ7sbYJQb03JHSUtAlBpJoSHXS1CUHSMv2HpbYJQSJ2XgZptQlBt6wW2Am8CUHlaACHq8cJQfMKylVfzglBJ9WfxcfUCUE=",
          "dtype": "f8"
         }
        },
        {
         "hovertemplate": "Today (2025-06-23)<br>Value: %{y:.0f}<extra></extra>",
         "marker": {
          "color": "#A0522D",
          "line": {
           "color": "#8B4513",
           "width": 2
          },
          "size": 12,
          "symbol": "circle"
         },
         "mode": "markers",
         "name": "Today",
         "type": "scatter",
         "x": [
          "2025-06-23T00:00:00"
         ],
         "y": [
          207626
         ]
        }
       ],
       "layout": {
        "height": 500,
        "hovermode": "x unified",
        "legend": {
         "bgcolor": "rgba(240, 230, 140, 0.9)",
         "bordercolor": "#8B7355",
         "borderwidth": 1,
         "font": {
          "color": "#4A4A4A",
          "size": 11
         },
         "orientation": "v",
         "x": 1.02,
         "xanchor": "left",
         "y": 0.98,
         "yanchor": "top"
        },
        "margin": {
         "b": 40,
         "l": 40,
         "r": 140,
         "t": 60
        },
        "paper_bgcolor": "#F0E68C",
        "plot_bgcolor": "#F5F5DC",
        "shapes": [
         {
          "line": {
           "color": "#A0522D",
           "dash": "dot",
           "width": 1
          },
          "opacity": 0.6,
          "type": "line",
          "x0": "2025-06-23T00:00:00",
          "x1": "2025-06-23T00:00:00",
          "y0": 0,
          "y1": 1,
          "yref": "paper"
         }
        ],
        "showlegend": true,
        "template": {
         "data": {
          "bar": [
           {
            "error_x": {
             "color": "#2a3f5f"
            },
            "error_y": {
             "color": "#2a3f5f"
            },
            "marker": {
             "line": {
              "color": "#E5ECF6",
              "width": 0.5
             },
             "pattern": {
              "fillmode": "overlay",
              "size": 10,
              "solidity": 0.2
             }
            },
            "type": "bar"
           }
          ],
          "barpolar": [
           {
            "marker": {
             "line": {
              "color": "#E5ECF6",
              "width": 0.5
             },
             "pattern": {
              "fillmode": "overlay",
              "size": 10,
              "solidity": 0.2
             }
            },
            "type": "barpolar"
           }
          ],
          "carpet": [
           {
            "aaxis": {
             "endlinecolor": "#2a3f5f",
             "gridcolor": "white",
             "linecolor": "white",
             "minorgridcolor": "white",
             "startlinecolor": "#2a3f5f"
            },
            "baxis": {
             "endlinecolor": "#2a3f5f",
             "gridcolor": "white",
             "linecolor": "white",
             "minorgridcolor": "white",
             "startlinecolor": "#2a3f5f"
            },
            "type": "carpet"
           }
          ],
          "choropleth": [
           {
            "colorbar": {
             "outlinewidth": 0,
             "ticks": ""
            },
            "type": "choropleth"
           }
          ],
          "contour": [
           {
            "colorbar": {
             "outlinewidth": 0,
             "ticks": ""
            },
            "colorscale": [
             [
              0,
              "#0d0887"
             ],
             [
              0.1111111111111111,
              "#46039f"
             ],
             [
              0.2222222222222222,
              "#7201a8"
             ],
             [
              0.3333333333333333,
              "#9c179e"
             ],
             [
              0.4444444444444444,
              "#bd3786"
             ],
             [
              0.5555555555555556,
              "#d8576b"
             ],
             [
              0.6666666666666666,
              "#ed7953"
             ],
             [
              0.7777777777777778,
              "#fb9f3a"
             ],
             [
              0.8888888888888888,
              "#fdca26"
             ],
             [
              1,
              "#f0f921"
             ]
            ],
            "type": "contour"
           }
          ],
          "contourcarpet": [
           {
            "colorbar": {
             "outlinewidth": 0,
             "ticks": ""
            },
            "type": "contourcarpet"
           }
          ],
          "heatmap": [
           {
            "colorbar": {
             "outlinewidth": 0,
             "ticks": ""
            },
            "colorscale": [
             [
              0,
              "#0d0887"
             ],
             [
              0.1111111111111111,
              "#46039f"
             ],
             [
              0.2222222222222222,
              "#7201a8"
             ],
             [
              0.3333333333333333,
              "#9c179e"
             ],
             [
              0.4444444444444444,
              "#bd3786"
             ],
             [
              0.5555555555555556,
              "#d8576b"
             ],
             [
              0.6666666666666666,
              "#ed7953"
             ],
             [
              0.7777777777777778,
              "#fb9f3a"
             ],
             [
              0.8888888888888888,
              "#fdca26"
             ],
             [
              1,
              "#f0f921"
             ]
            ],
            "type": "heatmap"
           }
          ],
          "histogram": [
           {
            "marker": {
             "pattern": {
              "fillmode": "overlay",
              "size": 10,
              "solidity": 0.2
             }
            },
            "type": "histogram"
           }
          ],
          "histogram2d": [
           {
            "colorbar": {
             "outlinewidth": 0,
             "ticks": ""
            },
            "colorscale": [
             [
              0,
              "#0d0887"
             ],
             [
              0.1111111111111111,
              "#46039f"
             ],
             [
              0.2222222222222222,
              "#7201a8"
             ],
             [
              0.3333333333333333,
              "#9c179e"
             ],
             [
              0.4444444444444444,
              "#bd3786"
             ],
             [
              0.5555555555555556,
              "#d8576b"
             ],
             [
              0.6666666666666666,
              "#ed7953"
             ],
             [
              0.7777777777777778,
              "#fb9f3a"
             ],
             [
              0.8888888888888888,
              "#fdca26"
             ],
             [
              1,
              "#f0f921"
             ]
            ],
            "type": "histogram2d"
           }
          ],
          "histogram2dcontour": [
           {
            "colorbar": {
             "outlinewidth": 0,
             "ticks": ""
            },
            "colorscale": [
             [
              0,
              "#0d0887"
             ],
             [
              0.1111111111111111,
              "#46039f"
             ],
             [
              0.2222222222222222,
              "#7201a8"
             ],
             [
              0.3333333333333333,
              "#9c179e"
             ],
             [
              0.4444444444444444,
              "#bd3786"
             ],
             [
              0.5555555555555556,
              "#d8576b"
             ],
             [
              0.6666666666666666,
              "#ed7953"
             ],
             [
              0.7777777777777778,
              "#fb9f3a"
             ],
             [
              0.8888888888888888,
              "#fdca26"
             ],
             [
              1,
              "#f0f921"
             ]
            ],
            "type": "histogram2dcontour"
           }
          ],
          "mesh3d": [
           {
            "colorbar": {
             "outlinewidth": 0,
             "ticks": ""
            },
            "type": "mesh3d"
           }
          ],
          "parcoords": [
           {
            "line": {
             "colorbar": {
              "outlinewidth": 0,
              "ticks": ""
             }
            },
            "type": "parcoords"
           }
          ],
          "pie": [
           {
            "automargin": true,
            "type": "pie"
           }
          ],
          "scatter": [
           {
            "fillpattern": {
             "fillmode": "overlay",
             "size": 10,
             "solidity": 0.2
            },
            "type": "scatter"
           }
          ],
          "scatter3d": [
           {
            "line": {
             "colorbar": {
              "outlinewidth": 0,
              "ticks": ""
             }
            },
            "marker": {
             "colorbar": {
              "outlinewidth": 0,
              "ticks": ""
             }
            },
            "type": "scatter3d"
           }
          ],
          "scattercarpet": [
           {
            "marker": {
             "colorbar": {
              "outlinewidth": 0,
              "ticks": ""
             }
            },
            "type": "scattercarpet"
           }
          ],
          "scattergeo": [
           {
            "marker": {
             "colorbar": {
              "outlinewidth": 0,
              "ticks": ""
             }
            },
            "type": "scattergeo"
           }
          ],
          "scattergl": [
           {
            "marker": {
             "colorbar": {
              "outlinewidth": 0,
              "ticks": ""
             }
            },
            "type": "scattergl"
           }
          ],
          "scattermap": [
           {
            "marker": {
             "colorbar": {
              "outlinewidth": 0,
              "ticks": ""
             }
            },
            "type": "scattermap"
           }
          ],
          "scattermapbox": [
           {
            "marker": {
             "colorbar": {
              "outlinewidth": 0,
              "ticks": ""
             }
            },
            "type": "scattermapbox"
           }
          ],
          "scatterpolar": [
           {
            "marker": {
             "colorbar": {
              "outlinewidth": 0,
              "ticks": ""
             }
            },
            "type": "scatterpolar"
           }
          ],
          "scatterpolargl": [
           {
            "marker": {
             "colorbar": {
              "outlinewidth": 0,
              "ticks": ""
             }
            },
            "type": "scatterpolargl"
           }
          ],
          "scatterternary": [
           {
            "marker": {
             "colorbar": {
              "outlinewidth": 0,
              "ticks": ""
             }
            },
            "type": "scatterternary"
           }
          ],
          "surface": [
           {
            "colorbar": {
             "outlinewidth": 0,
             "ticks": ""
            },
            "colorscale": [
             [
              0,
              "#0d0887"
             ],
             [
              0.1111111111111111,
              "#46039f"
             ],
             [
              0.2222222222222222,
              "#7201a8"
             ],
             [
              0.3333333333333333,
              "#9c179e"
             ],
             [
              0.4444444444444444,
              "#bd3786"
             ],
             [
              0.5555555555555556,
              "#d8576b"
             ],
             [
              0.6666666666666666,
              "#ed7953"
             ],
             [
              0.7777777777777778,
              "#fb9f3a"
             ],
             [
              0.8888888888888888,
              "#fdca26"
             ],
             [
              1,
              "#f0f921"
             ]
            ],
            "type": "surface"
           }
          ],
          "table": [
           {
            "cells": {
             "fill": {
              "color": "#EBF0F8"
             },
             "line": {
              "color": "white"
             }
            },
            "header": {
             "fill": {
              "color": "#C8D4E3"
             },
             "line": {
              "color": "white"
             }
            },
            "type": "table"
           }
          ]
         },
         "layout": {
          "annotationdefaults": {
           "arrowcolor": "#2a3f5f",
           "arrowhead": 0,
           "arrowwidth": 1
          },
          "autotypenumbers": "strict",
          "coloraxis": {
           "colorbar": {
            "outlinewidth": 0,
            "ticks": ""
           }
          },
          "colorscale": {
           "diverging": [
            [
             0,
             "#8e0152"
            ],
            [
             0.1,
             "#c51b7d"
            ],
            [
             0.2,
             "#de77ae"
            ],
            [
             0.3,
             "#f1b6da"
            ],
            [
             0.4,
             "#fde0ef"
            ],
            [
             0.5,
             "#f7f7f7"
            ],
            [
             0.6,
             "#e6f5d0"
            ],
            [
             0.7,
             "#b8e186"
            ],
            [
             0.8,
             "#7fbc41"
            ],
            [
             0.9,
             "#4d9221"
            ],
            [
             1,
             "#276419"
            ]
           ],
           "sequential": [
            [
             0,
             "#0d0887"
            ],
            [
             0.1111111111111111,
             "#46039f"
            ],
            [
             0.2222222222222222,
             "#7201a8"
            ],
            [
             0.3333333333333333,
             "#9c179e"
            ],
            [
             0.4444444444444444,
             "#bd3786"
            ],
            [
             0.5555555555555556,
             "#d8576b"
            ],
            [
             0.6666666666666666,
             "#ed7953"
            ],
            [
             0.7777777777777778,
             "#fb9f3a"
            ],
            [
             0.8888888888888888,
             "#fdca26"
            ],
            [
             1,
             "#f0f921"
            ]
           ],
           "sequentialminus": [
            [
             0,
             "#0d0887"
            ],
            [
             0.1111111111111111,
             "#46039f"
            ],
            [
             0.2222222222222222,
             "#7201a8"
            ],
            [
             0.3333333333333333,
             "#9c179e"
            ],
            [
             0.4444444444444444,
             "#bd3786"
            ],
            [
             0.5555555555555556,
             "#d8576b"
            ],
            [
             0.6666666666666666,
             "#ed7953"
            ],
            [
             0.7777777777777778,
             "#fb9f3a"
            ],
            [
             0.8888888888888888,
             "#fdca26"
            ],
            [
             1,
             "#f0f921"
            ]
           ]
          },
          "colorway": [
           "#636efa",
           "#EF553B",
           "#00cc96",
           "#ab63fa",
           "#FFA15A",
           "#19d3f3",
           "#FF6692",
           "#B6E880",
           "#FF97FF",
           "#FECB52"
          ],
          "font": {
           "color": "#2a3f5f"
          },
          "geo": {
           "bgcolor": "white",
           "lakecolor": "white",
           "landcolor": "#E5ECF6",
           "showlakes": true,
           "showland": true,
           "subunitcolor": "white"
          },
          "hoverlabel": {
           "align": "left"
          },
          "hovermode": "closest",
          "mapbox": {
           "style": "light"
          },
          "paper_bgcolor": "white",
          "plot_bgcolor": "#E5ECF6",
          "polar": {
           "angularaxis": {
            "gridcolor": "white",
            "linecolor": "white",
            "ticks": ""
           },
           "bgcolor": "#E5ECF6",
           "radialaxis": {
            "gridcolor": "white",
            "linecolor": "white",
            "ticks": ""
           }
          },
          "scene": {
           "xaxis": {
            "backgroundcolor": "#E5ECF6",
            "gridcolor": "white",
            "gridwidth": 2,
            "linecolor": "white",
            "showbackground": true,
            "ticks": "",
            "zerolinecolor": "white"
           },
           "yaxis": {
            "backgroundcolor": "#E5ECF6",
            "gridcolor": "white",
            "gridwidth": 2,
            "linecolor": "white",
            "showbackground": true,
            "ticks": "",
            "zerolinecolor": "white"
           },
           "zaxis": {
            "backgroundcolor": "#E5ECF6",
            "gridcolor": "white",
            "gridwidth": 2,
            "linecolor": "white",
            "showbackground": true,
            "ticks": "",
            "zerolinecolor": "white"
           }
          },
          "shapedefaults": {
           "line": {
            "color": "#2a3f5f"
           }
          },
          "ternary": {
           "aaxis": {
            "gridcolor": "white",
            "linecolor": "white",
            "ticks": ""
           },
           "baxis": {
            "gridcolor": "white",
            "linecolor": "white",
            "ticks": ""
           },
           "bgcolor": "#E5ECF6",
           "caxis": {
            "gridcolor": "white",
            "linecolor": "white",
            "ticks": ""
           }
          },
          "title": {
           "x": 0.05
          },
          "xaxis": {
           "automargin": true,
           "gridcolor": "white",
           "linecolor": "white",
           "ticks": "",
           "title": {
            "standoff": 15
           },
           "zerolinecolor": "white",
           "zerolinewidth": 2
          },
          "yaxis": {
           "automargin": true,
           "gridcolor": "white",
           "linecolor": "white",
           "ticks": "",
           "title": {
            "standoff": 15
           },
           "zerolinecolor": "white",
           "zerolinewidth": 2
          }
         }
        },
        "title": {
         "font": {
          "color": "#4A4A4A",
          "family": "Georgia",
          "size": 18
         },
         "text": "Forecast Chart",
         "x": 0.02
        },
        "xaxis": {
         "gridcolor": "#DDD8C0",
         "gridwidth": 0.5,
         "linecolor": "#C0B283",
         "range": [
          "2025-03-25T00:00:00",
          "2025-08-22T00:00:00"
         ],
         "showgrid": true,
         "tickfont": {
          "color": "#6A6A6A",
          "size": 10
         },
         "tickformat": "%m/%d",
         "title": {
          "text": ""
         }
        },
        "yaxis": {
         "gridcolor": "#DDD8C0",
         "gridwidth": 0.5,
         "linecolor": "#C0B283",
         "showgrid": true,
         "tickfont": {
          "color": "#6A6A6A",
          "size": 10
         },
         "tickformat": ",",
         "title": {
          "text": ""
         }
        }
       }
      }
     },
     "metadata": {},
     "output_type": "display_data"
    }
   ],
   "source": [
    "from main_model import MainModel\n",
    "\n",
    "df['txn_date'] = pd.to_datetime(df['txn_date'])\n",
    "newest_date = str(df['txn_date'].max())\n",
    "oldest_date = str(df['txn_date'].min())\n",
    "td_df = df.copy()\n",
    "\n",
    "model = MainModel(\n",
    "    df = td_df, \n",
    "    date_col='txn_date', \n",
    "    metric_col='active_merchant',\n",
    "    back_range=90,\n",
    "    forward_range=60,\n",
    "    forecast_range=365)\n",
    "\n",
    "anomalies_data = model.detect_stl_anomalies(\n",
    "    type='Retail', \n",
    "    start=oldest_date, \n",
    "    end=newest_date,\n",
    "    file_path='static/anomalies_retail.csv',  \n",
    "    save=True)\n",
    "\n",
    "today = pd.to_datetime('today').normalize()\n",
    "forecast_data = model.forecast_with_prophet(\n",
    "    type='Retail',\n",
    "    start = oldest_date,\n",
    "    end = today,\n",
    "    file_path='static/forecast_retail.csv',\n",
    "    save=True)\n",
    "\n",
    "\n",
    "test_df = pd.read_csv('C:/Users/ADMIN/Downloads/projects/aichatbot/static/forecast_retail_20250623.csv')\n",
    "model.plot_forecast_charts(\n",
    "    forecast_df=test_df,\n",
    "    save=True,\n",
    ")"
   ]
  },
  {
   "cell_type": "code",
   "execution_count": 4,
   "id": "922cfd1e",
   "metadata": {},
   "outputs": [
    {
     "name": "stdout",
     "output_type": "stream",
     "text": [
      "Software products: ['Retail' 'Booking' 'FNB']\n"
     ]
    }
   ],
   "source": [
    "software_product = df['software_product'].unique()\n",
    "print(f\"Software products: {software_product}\")"
   ]
  },
  {
   "cell_type": "code",
   "execution_count": 5,
   "id": "001326ee",
   "metadata": {},
   "outputs": [
    {
     "name": "stdout",
     "output_type": "stream",
     "text": [
      "Today's date: 2025-06-23 00:00:00\n"
     ]
    }
   ],
   "source": [
    "# Take current day\n",
    "today = pd.to_datetime('today').normalize()\n",
    "print(f\"Today's date: {today}\")"
   ]
  },
  {
   "cell_type": "code",
   "execution_count": 6,
   "id": "5c9ee7e8",
   "metadata": {},
   "outputs": [],
   "source": [
    "from statsmodels.tsa.seasonal import STL\n",
    "import numpy as np\n",
    "import pandas as pd\n",
    "\n",
    "def detect_stl_anomalies(data, date_col='txn_date', metric_col='active_merchant',\n",
    "                         threshold=2.5, period=7, start_date=None, end_date=None):\n",
    "    df = data.copy()\n",
    "    df[date_col] = pd.to_datetime(df[date_col])\n",
    "\n",
    "    # Lọc theo khoảng ngày nếu có chỉ định\n",
    "    if start_date:\n",
    "        df = df[df[date_col] >= pd.to_datetime(start_date)]\n",
    "    if end_date:\n",
    "        df = df[df[date_col] <= pd.to_datetime(end_date)]\n",
    "\n",
    "    # Gộp nếu trùng ngày\n",
    "    if df.duplicated(subset=[date_col]).any():\n",
    "        df = df.groupby(date_col)[metric_col].sum().reset_index()\n",
    "\n",
    "    df = df.sort_values(date_col)\n",
    "    #ts = df.set_index(date_col)[metric_col].fillna(method='ffill').fillna(method='bfill')\n",
    "    ts = df.set_index(date_col)[metric_col].ffill().bfill()\n",
    "\n",
    "    if len(ts) < 20:\n",
    "        # fallback Z-score\n",
    "        z = (ts - ts.mean()) / ts.std()\n",
    "        anomalies = np.abs(z) > threshold\n",
    "        return pd.DataFrame({\n",
    "            'ds': ts.index,\n",
    "            'y': ts.values,\n",
    "            'trend': ts.values,\n",
    "            'seasonal': 0,\n",
    "            'residual': ts - ts.mean(),\n",
    "            'anomaly': anomalies.values,\n",
    "        }).reset_index(drop=True)\n",
    "\n",
    "    try:\n",
    "        stl = STL(ts, period=period, seasonal=21, robust=True)\n",
    "        result = stl.fit()\n",
    "        trend, seasonal, residual = result.trend, result.seasonal, result.resid\n",
    "    except Exception as e:\n",
    "        print(f\"[Warning] STL error: {e}\")\n",
    "        trend = ts.rolling(7, center=True).mean().fillna(ts.mean())\n",
    "        seasonal = pd.Series(0, index=ts.index)\n",
    "        residual = (ts - trend).fillna(0)\n",
    "\n",
    "    res_mean, res_std = residual.mean(), residual.std()\n",
    "    if res_std < 1e-10:\n",
    "        res_std = ts.std() * 0.1\n",
    "\n",
    "    upper = res_mean + threshold * res_std\n",
    "    lower = res_mean - threshold * res_std\n",
    "    anomalies = (residual > upper) | (residual < lower)\n",
    "\n",
    "    return pd.DataFrame({\n",
    "        'ds': ts.index,\n",
    "        'y': ts.values,\n",
    "        'trend': trend.values,\n",
    "        'seasonal': seasonal.values,\n",
    "        'residual': residual.values,\n",
    "        'anomaly': anomalies.values,\n",
    "        'residual_threshold_upper': upper,\n",
    "        'residual_threshold_lower': lower\n",
    "    }).reset_index(drop=True)"
   ]
  },
  {
   "cell_type": "code",
   "execution_count": 7,
   "id": "b28f1b4e",
   "metadata": {},
   "outputs": [],
   "source": [
    "from prophet import Prophet\n",
    "\n",
    "def forecast_with_prophet(data, date_col='ds', metric_col='y',\n",
    "                          predict_periods=60, train_start=None, train_end=None):\n",
    "    df = data.copy()\n",
    "    df[date_col] = pd.to_datetime(df[date_col])\n",
    "    df = df.rename(columns={date_col: 'ds', metric_col: 'y'})\n",
    "    #df['y'] = df['y'].fillna(method='ffill').fillna(method='bfill')\n",
    "    df['y'] = df['y'].ffill().bfill()\n",
    "\n",
    "    # Lọc theo khoảng ngày nếu có\n",
    "    if train_start:\n",
    "        df = df[df['ds'] >= pd.to_datetime(train_start)]\n",
    "    if train_end:\n",
    "        df = df[df['ds'] <= pd.to_datetime(train_end)]\n",
    "\n",
    "    model = Prophet(\n",
    "        daily_seasonality=True,\n",
    "        weekly_seasonality=True,\n",
    "        yearly_seasonality=True\n",
    "    )\n",
    "    model.fit(df)\n",
    "\n",
    "    future = model.make_future_dataframe(periods=predict_periods, freq='D')\n",
    "    forecast = model.predict(future)\n",
    "\n",
    "    forecast_df = forecast[['ds', 'yhat', 'yhat_lower', 'yhat_upper']].merge(df, on='ds', how='left')\n",
    "    return forecast_df, model"
   ]
  },
  {
   "cell_type": "code",
   "execution_count": 8,
   "id": "2851fb3d",
   "metadata": {},
   "outputs": [],
   "source": [
    "import plotly.graph_objects as go\n",
    "\n",
    "def plot_forecast_line(forecast_df, title=\"Forecast Line Chart\", \n",
    "                      export_png=True, png_filename=None):\n",
    "    fig = go.Figure()\n",
    "\n",
    "    if 'y' in forecast_df.columns:\n",
    "        fig.add_trace(go.Scatter(\n",
    "            x=forecast_df['ds'],\n",
    "            y=forecast_df['y'],\n",
    "            name='Actual',\n",
    "            line=dict(color='blue')\n",
    "        ))\n",
    "\n",
    "    fig.add_trace(go.Scatter(\n",
    "        x=forecast_df['ds'],\n",
    "        y=forecast_df['yhat'],\n",
    "        name='Forecast',\n",
    "        line=dict(color='green')\n",
    "    ))\n",
    "\n",
    "    fig.add_trace(go.Scatter(\n",
    "        x=forecast_df['ds'],\n",
    "        y=forecast_df['yhat_upper'],\n",
    "        name='Upper Bound',\n",
    "        line=dict(color='lightgreen', dash='dot'),\n",
    "        showlegend=False\n",
    "    ))\n",
    "\n",
    "    fig.add_trace(go.Scatter(\n",
    "        x=forecast_df['ds'],\n",
    "        y=forecast_df['yhat_lower'],\n",
    "        name='Lower Bound',\n",
    "        line=dict(color='lightgreen', dash='dot'),\n",
    "        fill='tonexty',\n",
    "        fillcolor='rgba(144,238,144,0.2)',\n",
    "        showlegend=True\n",
    "    ))\n",
    "\n",
    "    fig.update_layout(\n",
    "        title=title,\n",
    "        xaxis_title='Date',\n",
    "        yaxis_title='Value',\n",
    "        template='plotly_white'\n",
    "    )\n",
    "\n",
    "    # Export to PNG if requested\n",
    "    if export_png:\n",
    "        if png_filename is None:\n",
    "            png_filename = f\"forecast_chart_{pd.Timestamp.now().strftime('%Y%m%d_%H%M%S')}.png\"\n",
    "        try:\n",
    "            fig.write_image(png_filename)\n",
    "            print(f\"Forecast chart exported to: {png_filename}\")\n",
    "        except Exception as e:\n",
    "            print(f\"[Warning] PNG export failed: {e}. Install kaleido with 'pip install kaleido'\")\n",
    "\n",
    "    return fig"
   ]
  },
  {
   "cell_type": "code",
   "execution_count": 9,
   "id": "37a85942",
   "metadata": {},
   "outputs": [],
   "source": [
    "from datetime import timedelta\n",
    "import plotly.graph_objects as go\n",
    "\n",
    "def plot_recent_anomalies_bar(anomaly_df, days_back=30, title=\"Recent Anomalies\",\n",
    "                             export_png=True, png_filename=None):\n",
    "    \"\"\"\n",
    "    Plot recent anomalies with proper visualization\n",
    "    \n",
    "    Args:\n",
    "        anomaly_df (pd.DataFrame): DataFrame with anomaly detection results\n",
    "        days_back (int): Number of days to look back from latest date\n",
    "        title (str): Chart title\n",
    "        export_png (bool): Whether to export chart as PNG\n",
    "        png_filename (str): Custom filename for PNG export\n",
    "    \n",
    "    Returns:\n",
    "        plotly.graph_objects.Figure: Plotly figure object\n",
    "    \"\"\"\n",
    "    latest_date = anomaly_df['ds'].max()\n",
    "    from_date = latest_date - timedelta(days=days_back)\n",
    "\n",
    "    # Filter recent data\n",
    "    recent_df = anomaly_df[\n",
    "        (anomaly_df['ds'] >= from_date) & \n",
    "        (anomaly_df['ds'] <= latest_date)\n",
    "    ].copy()\n",
    "\n",
    "    # Separate normal and anomaly points\n",
    "    normal_points = recent_df[~recent_df['anomaly']]\n",
    "    anomaly_points = recent_df[recent_df['anomaly']]\n",
    "\n",
    "    fig = go.Figure()\n",
    "\n",
    "    # Add normal data points\n",
    "    if len(normal_points) > 0:\n",
    "        fig.add_trace(go.Bar(\n",
    "            x=normal_points['ds'],\n",
    "            y=normal_points['y'],\n",
    "            name='Normal Data',\n",
    "            marker_color='lightblue',\n",
    "            opacity=0.7\n",
    "        ))\n",
    "\n",
    "    # Add anomaly points with different color\n",
    "    if len(anomaly_points) > 0:\n",
    "        fig.add_trace(go.Bar(\n",
    "            x=anomaly_points['ds'],\n",
    "            y=anomaly_points['y'],\n",
    "            name='Anomalies',\n",
    "            marker_color='red',\n",
    "            opacity=0.7\n",
    "        ))\n",
    "\n",
    "    # Update layout\n",
    "    fig.update_layout(\n",
    "        title=title,\n",
    "        xaxis_title='Date',\n",
    "        yaxis_title='New Merchant Count',\n",
    "        barmode='group',  # Changed from 'overlay' to 'group'\n",
    "        template='plotly_white',\n",
    "        showlegend=True,\n",
    "        height=500\n",
    "    )\n",
    "\n",
    "    # Add annotations for anomaly count\n",
    "    anomaly_count = len(anomaly_points)\n",
    "    total_count = len(recent_df)\n",
    "    anomaly_rate = (anomaly_count / total_count * 100) if total_count > 0 else 0\n",
    "    \n",
    "    fig.add_annotation(\n",
    "        text=f\"Anomalies: {anomaly_count}/{total_count} ({anomaly_rate:.1f}%)\",\n",
    "        xref=\"paper\", yref=\"paper\",\n",
    "        x=0.02, y=0.98,\n",
    "        showarrow=False,\n",
    "        font=dict(size=12, color=\"black\"),\n",
    "        bgcolor=\"rgba(255,255,255,0.8)\",\n",
    "        bordercolor=\"black\",\n",
    "        borderwidth=1\n",
    "    )\n",
    "\n",
    "    # Export to PNG if requested\n",
    "    if export_png:\n",
    "        if png_filename is None:\n",
    "            png_filename = f\"anomaly_chart_{pd.Timestamp.now().strftime('%Y%m%d_%H%M%S')}.png\"\n",
    "        try:\n",
    "            fig.write_image(png_filename)\n",
    "            print(f\"Anomaly chart exported to: {png_filename}\")\n",
    "        except Exception as e:\n",
    "            print(f\"[Warning] PNG export failed: {e}. Install kaleido with 'pip install kaleido'\")\n",
    "\n",
    "    return fig"
   ]
  },
  {
   "cell_type": "code",
   "execution_count": 10,
   "id": "f7e27d38",
   "metadata": {},
   "outputs": [
    {
     "name": "stdout",
     "output_type": "stream",
     "text": [
      "Anomaly chart exported to: anomaly_chart_20250623_013839.png\n"
     ]
    },
    {
     "data": {
      "application/vnd.plotly.v1+json": {
       "config": {
        "plotlyServerURL": "https://plot.ly"
       },
       "data": [
        {
         "marker": {
          "color": "lightblue"
         },
         "name": "Normal Data",
         "opacity": 0.7,
         "type": "bar",
         "x": [
          "2025-03-30T00:00:00",
          "2025-03-31T00:00:00",
          "2025-04-01T00:00:00",
          "2025-04-02T00:00:00",
          "2025-04-03T00:00:00",
          "2025-04-04T00:00:00",
          "2025-04-05T00:00:00",
          "2025-04-06T00:00:00",
          "2025-04-07T00:00:00",
          "2025-04-08T00:00:00",
          "2025-04-09T00:00:00",
          "2025-04-10T00:00:00",
          "2025-04-11T00:00:00",
          "2025-04-12T00:00:00",
          "2025-04-13T00:00:00",
          "2025-04-14T00:00:00",
          "2025-04-15T00:00:00",
          "2025-04-16T00:00:00",
          "2025-04-17T00:00:00",
          "2025-04-18T00:00:00",
          "2025-04-20T00:00:00",
          "2025-04-21T00:00:00",
          "2025-04-22T00:00:00",
          "2025-04-23T00:00:00",
          "2025-04-24T00:00:00",
          "2025-04-25T00:00:00",
          "2025-04-26T00:00:00",
          "2025-04-27T00:00:00",
          "2025-04-28T00:00:00",
          "2025-04-29T00:00:00",
          "2025-04-30T00:00:00",
          "2025-05-01T00:00:00",
          "2025-05-02T00:00:00",
          "2025-05-03T00:00:00",
          "2025-05-04T00:00:00",
          "2025-05-05T00:00:00",
          "2025-05-06T00:00:00",
          "2025-05-07T00:00:00",
          "2025-05-08T00:00:00",
          "2025-05-09T00:00:00",
          "2025-05-10T00:00:00",
          "2025-05-11T00:00:00",
          "2025-05-12T00:00:00",
          "2025-05-13T00:00:00",
          "2025-05-14T00:00:00",
          "2025-05-15T00:00:00",
          "2025-05-16T00:00:00",
          "2025-05-17T00:00:00",
          "2025-05-18T00:00:00",
          "2025-05-19T00:00:00"
         ],
         "y": {
          "bdata": "JAGgAJIBWAEyAWsBVgEmAaAAcgFHAXoBTwEwAQcBmQCDAYEBqwG6AWkBkAARAVMBIQH7AO0AfwBuAG4BPgEtAVEBPAGXAJIAZwEyAUMBKgEvASYBpwA+AV0BWAFHAVoBKAHIAA==",
          "dtype": "i2"
         }
        },
        {
         "marker": {
          "color": "red"
         },
         "name": "Anomalies",
         "opacity": 0.7,
         "type": "bar",
         "x": [
          "2025-04-19T00:00:00",
          "2025-05-20T00:00:00"
         ],
         "y": {
          "bdata": "DQK1Ag==",
          "dtype": "i2"
         }
        }
       ],
       "layout": {
        "annotations": [
         {
          "bgcolor": "rgba(255,255,255,0.8)",
          "bordercolor": "black",
          "borderwidth": 1,
          "font": {
           "color": "black",
           "size": 12
          },
          "showarrow": false,
          "text": "Anomalies: 2/52 (3.8%)",
          "x": 0.02,
          "xref": "paper",
          "y": 0.98,
          "yref": "paper"
         }
        ],
        "barmode": "group",
        "height": 500,
        "showlegend": true,
        "template": {
         "data": {
          "bar": [
           {
            "error_x": {
             "color": "#2a3f5f"
            },
            "error_y": {
             "color": "#2a3f5f"
            },
            "marker": {
             "line": {
              "color": "white",
              "width": 0.5
             },
             "pattern": {
              "fillmode": "overlay",
              "size": 10,
              "solidity": 0.2
             }
            },
            "type": "bar"
           }
          ],
          "barpolar": [
           {
            "marker": {
             "line": {
              "color": "white",
              "width": 0.5
             },
             "pattern": {
              "fillmode": "overlay",
              "size": 10,
              "solidity": 0.2
             }
            },
            "type": "barpolar"
           }
          ],
          "carpet": [
           {
            "aaxis": {
             "endlinecolor": "#2a3f5f",
             "gridcolor": "#C8D4E3",
             "linecolor": "#C8D4E3",
             "minorgridcolor": "#C8D4E3",
             "startlinecolor": "#2a3f5f"
            },
            "baxis": {
             "endlinecolor": "#2a3f5f",
             "gridcolor": "#C8D4E3",
             "linecolor": "#C8D4E3",
             "minorgridcolor": "#C8D4E3",
             "startlinecolor": "#2a3f5f"
            },
            "type": "carpet"
           }
          ],
          "choropleth": [
           {
            "colorbar": {
             "outlinewidth": 0,
             "ticks": ""
            },
            "type": "choropleth"
           }
          ],
          "contour": [
           {
            "colorbar": {
             "outlinewidth": 0,
             "ticks": ""
            },
            "colorscale": [
             [
              0,
              "#0d0887"
             ],
             [
              0.1111111111111111,
              "#46039f"
             ],
             [
              0.2222222222222222,
              "#7201a8"
             ],
             [
              0.3333333333333333,
              "#9c179e"
             ],
             [
              0.4444444444444444,
              "#bd3786"
             ],
             [
              0.5555555555555556,
              "#d8576b"
             ],
             [
              0.6666666666666666,
              "#ed7953"
             ],
             [
              0.7777777777777778,
              "#fb9f3a"
             ],
             [
              0.8888888888888888,
              "#fdca26"
             ],
             [
              1,
              "#f0f921"
             ]
            ],
            "type": "contour"
           }
          ],
          "contourcarpet": [
           {
            "colorbar": {
             "outlinewidth": 0,
             "ticks": ""
            },
            "type": "contourcarpet"
           }
          ],
          "heatmap": [
           {
            "colorbar": {
             "outlinewidth": 0,
             "ticks": ""
            },
            "colorscale": [
             [
              0,
              "#0d0887"
             ],
             [
              0.1111111111111111,
              "#46039f"
             ],
             [
              0.2222222222222222,
              "#7201a8"
             ],
             [
              0.3333333333333333,
              "#9c179e"
             ],
             [
              0.4444444444444444,
              "#bd3786"
             ],
             [
              0.5555555555555556,
              "#d8576b"
             ],
             [
              0.6666666666666666,
              "#ed7953"
             ],
             [
              0.7777777777777778,
              "#fb9f3a"
             ],
             [
              0.8888888888888888,
              "#fdca26"
             ],
             [
              1,
              "#f0f921"
             ]
            ],
            "type": "heatmap"
           }
          ],
          "histogram": [
           {
            "marker": {
             "pattern": {
              "fillmode": "overlay",
              "size": 10,
              "solidity": 0.2
             }
            },
            "type": "histogram"
           }
          ],
          "histogram2d": [
           {
            "colorbar": {
             "outlinewidth": 0,
             "ticks": ""
            },
            "colorscale": [
             [
              0,
              "#0d0887"
             ],
             [
              0.1111111111111111,
              "#46039f"
             ],
             [
              0.2222222222222222,
              "#7201a8"
             ],
             [
              0.3333333333333333,
              "#9c179e"
             ],
             [
              0.4444444444444444,
              "#bd3786"
             ],
             [
              0.5555555555555556,
              "#d8576b"
             ],
             [
              0.6666666666666666,
              "#ed7953"
             ],
             [
              0.7777777777777778,
              "#fb9f3a"
             ],
             [
              0.8888888888888888,
              "#fdca26"
             ],
             [
              1,
              "#f0f921"
             ]
            ],
            "type": "histogram2d"
           }
          ],
          "histogram2dcontour": [
           {
            "colorbar": {
             "outlinewidth": 0,
             "ticks": ""
            },
            "colorscale": [
             [
              0,
              "#0d0887"
             ],
             [
              0.1111111111111111,
              "#46039f"
             ],
             [
              0.2222222222222222,
              "#7201a8"
             ],
             [
              0.3333333333333333,
              "#9c179e"
             ],
             [
              0.4444444444444444,
              "#bd3786"
             ],
             [
              0.5555555555555556,
              "#d8576b"
             ],
             [
              0.6666666666666666,
              "#ed7953"
             ],
             [
              0.7777777777777778,
              "#fb9f3a"
             ],
             [
              0.8888888888888888,
              "#fdca26"
             ],
             [
              1,
              "#f0f921"
             ]
            ],
            "type": "histogram2dcontour"
           }
          ],
          "mesh3d": [
           {
            "colorbar": {
             "outlinewidth": 0,
             "ticks": ""
            },
            "type": "mesh3d"
           }
          ],
          "parcoords": [
           {
            "line": {
             "colorbar": {
              "outlinewidth": 0,
              "ticks": ""
             }
            },
            "type": "parcoords"
           }
          ],
          "pie": [
           {
            "automargin": true,
            "type": "pie"
           }
          ],
          "scatter": [
           {
            "fillpattern": {
             "fillmode": "overlay",
             "size": 10,
             "solidity": 0.2
            },
            "type": "scatter"
           }
          ],
          "scatter3d": [
           {
            "line": {
             "colorbar": {
              "outlinewidth": 0,
              "ticks": ""
             }
            },
            "marker": {
             "colorbar": {
              "outlinewidth": 0,
              "ticks": ""
             }
            },
            "type": "scatter3d"
           }
          ],
          "scattercarpet": [
           {
            "marker": {
             "colorbar": {
              "outlinewidth": 0,
              "ticks": ""
             }
            },
            "type": "scattercarpet"
           }
          ],
          "scattergeo": [
           {
            "marker": {
             "colorbar": {
              "outlinewidth": 0,
              "ticks": ""
             }
            },
            "type": "scattergeo"
           }
          ],
          "scattergl": [
           {
            "marker": {
             "colorbar": {
              "outlinewidth": 0,
              "ticks": ""
             }
            },
            "type": "scattergl"
           }
          ],
          "scattermap": [
           {
            "marker": {
             "colorbar": {
              "outlinewidth": 0,
              "ticks": ""
             }
            },
            "type": "scattermap"
           }
          ],
          "scattermapbox": [
           {
            "marker": {
             "colorbar": {
              "outlinewidth": 0,
              "ticks": ""
             }
            },
            "type": "scattermapbox"
           }
          ],
          "scatterpolar": [
           {
            "marker": {
             "colorbar": {
              "outlinewidth": 0,
              "ticks": ""
             }
            },
            "type": "scatterpolar"
           }
          ],
          "scatterpolargl": [
           {
            "marker": {
             "colorbar": {
              "outlinewidth": 0,
              "ticks": ""
             }
            },
            "type": "scatterpolargl"
           }
          ],
          "scatterternary": [
           {
            "marker": {
             "colorbar": {
              "outlinewidth": 0,
              "ticks": ""
             }
            },
            "type": "scatterternary"
           }
          ],
          "surface": [
           {
            "colorbar": {
             "outlinewidth": 0,
             "ticks": ""
            },
            "colorscale": [
             [
              0,
              "#0d0887"
             ],
             [
              0.1111111111111111,
              "#46039f"
             ],
             [
              0.2222222222222222,
              "#7201a8"
             ],
             [
              0.3333333333333333,
              "#9c179e"
             ],
             [
              0.4444444444444444,
              "#bd3786"
             ],
             [
              0.5555555555555556,
              "#d8576b"
             ],
             [
              0.6666666666666666,
              "#ed7953"
             ],
             [
              0.7777777777777778,
              "#fb9f3a"
             ],
             [
              0.8888888888888888,
              "#fdca26"
             ],
             [
              1,
              "#f0f921"
             ]
            ],
            "type": "surface"
           }
          ],
          "table": [
           {
            "cells": {
             "fill": {
              "color": "#EBF0F8"
             },
             "line": {
              "color": "white"
             }
            },
            "header": {
             "fill": {
              "color": "#C8D4E3"
             },
             "line": {
              "color": "white"
             }
            },
            "type": "table"
           }
          ]
         },
         "layout": {
          "annotationdefaults": {
           "arrowcolor": "#2a3f5f",
           "arrowhead": 0,
           "arrowwidth": 1
          },
          "autotypenumbers": "strict",
          "coloraxis": {
           "colorbar": {
            "outlinewidth": 0,
            "ticks": ""
           }
          },
          "colorscale": {
           "diverging": [
            [
             0,
             "#8e0152"
            ],
            [
             0.1,
             "#c51b7d"
            ],
            [
             0.2,
             "#de77ae"
            ],
            [
             0.3,
             "#f1b6da"
            ],
            [
             0.4,
             "#fde0ef"
            ],
            [
             0.5,
             "#f7f7f7"
            ],
            [
             0.6,
             "#e6f5d0"
            ],
            [
             0.7,
             "#b8e186"
            ],
            [
             0.8,
             "#7fbc41"
            ],
            [
             0.9,
             "#4d9221"
            ],
            [
             1,
             "#276419"
            ]
           ],
           "sequential": [
            [
             0,
             "#0d0887"
            ],
            [
             0.1111111111111111,
             "#46039f"
            ],
            [
             0.2222222222222222,
             "#7201a8"
            ],
            [
             0.3333333333333333,
             "#9c179e"
            ],
            [
             0.4444444444444444,
             "#bd3786"
            ],
            [
             0.5555555555555556,
             "#d8576b"
            ],
            [
             0.6666666666666666,
             "#ed7953"
            ],
            [
             0.7777777777777778,
             "#fb9f3a"
            ],
            [
             0.8888888888888888,
             "#fdca26"
            ],
            [
             1,
             "#f0f921"
            ]
           ],
           "sequentialminus": [
            [
             0,
             "#0d0887"
            ],
            [
             0.1111111111111111,
             "#46039f"
            ],
            [
             0.2222222222222222,
             "#7201a8"
            ],
            [
             0.3333333333333333,
             "#9c179e"
            ],
            [
             0.4444444444444444,
             "#bd3786"
            ],
            [
             0.5555555555555556,
             "#d8576b"
            ],
            [
             0.6666666666666666,
             "#ed7953"
            ],
            [
             0.7777777777777778,
             "#fb9f3a"
            ],
            [
             0.8888888888888888,
             "#fdca26"
            ],
            [
             1,
             "#f0f921"
            ]
           ]
          },
          "colorway": [
           "#636efa",
           "#EF553B",
           "#00cc96",
           "#ab63fa",
           "#FFA15A",
           "#19d3f3",
           "#FF6692",
           "#B6E880",
           "#FF97FF",
           "#FECB52"
          ],
          "font": {
           "color": "#2a3f5f"
          },
          "geo": {
           "bgcolor": "white",
           "lakecolor": "white",
           "landcolor": "white",
           "showlakes": true,
           "showland": true,
           "subunitcolor": "#C8D4E3"
          },
          "hoverlabel": {
           "align": "left"
          },
          "hovermode": "closest",
          "mapbox": {
           "style": "light"
          },
          "paper_bgcolor": "white",
          "plot_bgcolor": "white",
          "polar": {
           "angularaxis": {
            "gridcolor": "#EBF0F8",
            "linecolor": "#EBF0F8",
            "ticks": ""
           },
           "bgcolor": "white",
           "radialaxis": {
            "gridcolor": "#EBF0F8",
            "linecolor": "#EBF0F8",
            "ticks": ""
           }
          },
          "scene": {
           "xaxis": {
            "backgroundcolor": "white",
            "gridcolor": "#DFE8F3",
            "gridwidth": 2,
            "linecolor": "#EBF0F8",
            "showbackground": true,
            "ticks": "",
            "zerolinecolor": "#EBF0F8"
           },
           "yaxis": {
            "backgroundcolor": "white",
            "gridcolor": "#DFE8F3",
            "gridwidth": 2,
            "linecolor": "#EBF0F8",
            "showbackground": true,
            "ticks": "",
            "zerolinecolor": "#EBF0F8"
           },
           "zaxis": {
            "backgroundcolor": "white",
            "gridcolor": "#DFE8F3",
            "gridwidth": 2,
            "linecolor": "#EBF0F8",
            "showbackground": true,
            "ticks": "",
            "zerolinecolor": "#EBF0F8"
           }
          },
          "shapedefaults": {
           "line": {
            "color": "#2a3f5f"
           }
          },
          "ternary": {
           "aaxis": {
            "gridcolor": "#DFE8F3",
            "linecolor": "#A2B1C6",
            "ticks": ""
           },
           "baxis": {
            "gridcolor": "#DFE8F3",
            "linecolor": "#A2B1C6",
            "ticks": ""
           },
           "bgcolor": "white",
           "caxis": {
            "gridcolor": "#DFE8F3",
            "linecolor": "#A2B1C6",
            "ticks": ""
           }
          },
          "title": {
           "x": 0.05
          },
          "xaxis": {
           "automargin": true,
           "gridcolor": "#EBF0F8",
           "linecolor": "#EBF0F8",
           "ticks": "",
           "title": {
            "standoff": 15
           },
           "zerolinecolor": "#EBF0F8",
           "zerolinewidth": 2
          },
          "yaxis": {
           "automargin": true,
           "gridcolor": "#EBF0F8",
           "linecolor": "#EBF0F8",
           "ticks": "",
           "title": {
            "standoff": 15
           },
           "zerolinecolor": "#EBF0F8",
           "zerolinewidth": 2
          }
         }
        },
        "title": {
         "text": "Anomaly Detection Results"
        },
        "xaxis": {
         "title": {
          "text": "Date"
         }
        },
        "yaxis": {
         "title": {
          "text": "New Merchant Count"
         }
        }
       }
      }
     },
     "metadata": {},
     "output_type": "display_data"
    }
   ],
   "source": [
    "take_df = df[df['software_product'] == 'Retail']\n",
    "anomalies_result = detect_stl_anomalies(take_df, date_col='txn_date', metric_col='new_merchant',threshold=2.5, period=7, start_date='2025-03-30', end_date='2025-05-20')\n",
    "fig_anomalies = plot_recent_anomalies_bar(anomalies_result, days_back=60, title=\"Anomaly Detection Results\")\n",
    "fig_anomalies.show()"
   ]
  },
  {
   "cell_type": "code",
   "execution_count": null,
   "id": "7be30377",
   "metadata": {},
   "outputs": [],
   "source": [
    "anomalies_result.head(1000000)"
   ]
  },
  {
   "cell_type": "code",
   "execution_count": 12,
   "id": "636884b8",
   "metadata": {},
   "outputs": [
    {
     "name": "stderr",
     "output_type": "stream",
     "text": [
      "DEBUG\tTask(Task-2) cmdstanpy:command.py:do_command()- cmd: where.exe tbb.dll\n",
      "cwd: None\n",
      "DEBUG\tTask(Task-2) cmdstanpy:model.py:__init__()- TBB already found in load path\n",
      "DEBUG\tTask(Task-2) cmdstanpy:filesystem.py:_temp_single_json()- input tempfile: C:\\Users\\ADMIN\\AppData\\Local\\Temp\\tmp6vk7a8ig\\j9n1nhiu.json\n",
      "DEBUG\tTask(Task-2) cmdstanpy:filesystem.py:_temp_single_json()- input tempfile: C:\\Users\\ADMIN\\AppData\\Local\\Temp\\tmp6vk7a8ig\\3ci0qxcp.json\n",
      "DEBUG\tTask(Task-2) cmdstanpy:model.py:_run_cmdstan()- idx 0\n",
      "DEBUG\tTask(Task-2) cmdstanpy:model.py:_run_cmdstan()- running CmdStan, num_threads: None\n",
      "DEBUG\tTask(Task-2) cmdstanpy:model.py:_run_cmdstan()- CmdStan args: ['C:\\\\Users\\\\ADMIN\\\\Downloads\\\\projects\\\\aichatbot\\\\.venv\\\\Lib\\\\site-packages\\\\prophet\\\\stan_model\\\\prophet_model.bin', 'random', 'seed=35573', 'data', 'file=C:\\\\Users\\\\ADMIN\\\\AppData\\\\Local\\\\Temp\\\\tmp6vk7a8ig\\\\j9n1nhiu.json', 'init=C:\\\\Users\\\\ADMIN\\\\AppData\\\\Local\\\\Temp\\\\tmp6vk7a8ig\\\\3ci0qxcp.json', 'output', 'file=C:\\\\Users\\\\ADMIN\\\\AppData\\\\Local\\\\Temp\\\\tmp6vk7a8ig\\\\prophet_modelmgws90xr\\\\prophet_model-20250623013846.csv', 'method=optimize', 'algorithm=lbfgs', 'iter=10000']\n",
      "01:38:46 - cmdstanpy - INFO - Chain [1] start processing\n",
      "INFO\tTask(Task-2) cmdstanpy:model.py:_run_cmdstan()- Chain [1] start processing\n",
      "01:38:47 - cmdstanpy - INFO - Chain [1] done processing\n",
      "INFO\tTask(Task-2) cmdstanpy:model.py:_run_cmdstan()- Chain [1] done processing\n"
     ]
    },
    {
     "name": "stdout",
     "output_type": "stream",
     "text": [
      "Forecast chart exported to: forecast_chart_20250623_013847.png\n"
     ]
    },
    {
     "data": {
      "application/vnd.plotly.v1+json": {
       "config": {
        "plotlyServerURL": "https://plot.ly"
       },
       "data": [
        {
         "line": {
          "color": "blue"
         },
         "name": "Actual",
         "type": "scatter",
         "x": [
          "2024-01-01T00:00:00",
          "2024-01-02T00:00:00",
          "2024-01-03T00:00:00",
          "2024-01-04T00:00:00",
          "2024-01-05T00:00:00",
          "2024-01-06T00:00:00",
          "2024-01-07T00:00:00",
          "2024-01-08T00:00:00",
          "2024-01-09T00:00:00",
          "2024-01-10T00:00:00",
          "2024-01-11T00:00:00",
          "2024-01-12T00:00:00",
          "2024-01-13T00:00:00",
          "2024-01-14T00:00:00",
          "2024-01-15T00:00:00",
          "2024-01-16T00:00:00",
          "2024-01-17T00:00:00",
          "2024-01-18T00:00:00",
          "2024-01-19T00:00:00",
          "2024-01-20T00:00:00",
          "2024-01-21T00:00:00",
          "2024-01-22T00:00:00",
          "2024-01-23T00:00:00",
          "2024-01-24T00:00:00",
          "2024-01-25T00:00:00",
          "2024-01-26T00:00:00",
          "2024-01-27T00:00:00",
          "2024-01-28T00:00:00",
          "2024-01-29T00:00:00",
          "2024-01-30T00:00:00",
          "2024-01-31T00:00:00",
          "2024-02-01T00:00:00",
          "2024-02-02T00:00:00",
          "2024-02-03T00:00:00",
          "2024-02-04T00:00:00",
          "2024-02-05T00:00:00",
          "2024-02-06T00:00:00",
          "2024-02-07T00:00:00",
          "2024-02-08T00:00:00",
          "2024-02-09T00:00:00",
          "2024-02-10T00:00:00",
          "2024-02-11T00:00:00",
          "2024-02-12T00:00:00",
          "2024-02-13T00:00:00",
          "2024-02-14T00:00:00",
          "2024-02-15T00:00:00",
          "2024-02-16T00:00:00",
          "2024-02-17T00:00:00",
          "2024-02-18T00:00:00",
          "2024-02-19T00:00:00",
          "2024-02-20T00:00:00",
          "2024-02-21T00:00:00",
          "2024-02-22T00:00:00",
          "2024-02-23T00:00:00",
          "2024-02-24T00:00:00",
          "2024-02-25T00:00:00",
          "2024-02-26T00:00:00",
          "2024-02-27T00:00:00",
          "2024-02-28T00:00:00",
          "2024-02-29T00:00:00",
          "2024-03-01T00:00:00",
          "2024-03-02T00:00:00",
          "2024-03-03T00:00:00",
          "2024-03-04T00:00:00",
          "2024-03-05T00:00:00",
          "2024-03-06T00:00:00",
          "2024-03-07T00:00:00",
          "2024-03-08T00:00:00",
          "2024-03-09T00:00:00",
          "2024-03-10T00:00:00",
          "2024-03-11T00:00:00",
          "2024-03-12T00:00:00",
          "2024-03-13T00:00:00",
          "2024-03-14T00:00:00",
          "2024-03-15T00:00:00",
          "2024-03-16T00:00:00",
          "2024-03-17T00:00:00",
          "2024-03-18T00:00:00",
          "2024-03-19T00:00:00",
          "2024-03-20T00:00:00",
          "2024-03-21T00:00:00",
          "2024-03-22T00:00:00",
          "2024-03-23T00:00:00",
          "2024-03-24T00:00:00",
          "2024-03-25T00:00:00",
          "2024-03-26T00:00:00",
          "2024-03-27T00:00:00",
          "2024-03-28T00:00:00",
          "2024-03-29T00:00:00",
          "2024-03-30T00:00:00",
          "2024-03-31T00:00:00",
          "2024-04-01T00:00:00",
          "2024-04-02T00:00:00",
          "2024-04-03T00:00:00",
          "2024-04-04T00:00:00",
          "2024-04-05T00:00:00",
          "2024-04-06T00:00:00",
          "2024-04-07T00:00:00",
          "2024-04-08T00:00:00",
          "2024-04-09T00:00:00",
          "2024-04-10T00:00:00",
          "2024-04-11T00:00:00",
          "2024-04-12T00:00:00",
          "2024-04-13T00:00:00",
          "2024-04-14T00:00:00",
          "2024-04-15T00:00:00",
          "2024-04-16T00:00:00",
          "2024-04-17T00:00:00",
          "2024-04-18T00:00:00",
          "2024-04-19T00:00:00",
          "2024-04-20T00:00:00",
          "2024-04-21T00:00:00",
          "2024-04-22T00:00:00",
          "2024-04-23T00:00:00",
          "2024-04-24T00:00:00",
          "2024-04-25T00:00:00",
          "2024-04-26T00:00:00",
          "2024-04-27T00:00:00",
          "2024-04-28T00:00:00",
          "2024-04-29T00:00:00",
          "2024-04-30T00:00:00",
          "2024-05-01T00:00:00",
          "2024-05-02T00:00:00",
          "2024-05-03T00:00:00",
          "2024-05-04T00:00:00",
          "2024-05-05T00:00:00",
          "2024-05-06T00:00:00",
          "2024-05-07T00:00:00",
          "2024-05-08T00:00:00",
          "2024-05-09T00:00:00",
          "2024-05-10T00:00:00",
          "2024-05-11T00:00:00",
          "2024-05-12T00:00:00",
          "2024-05-13T00:00:00",
          "2024-05-14T00:00:00",
          "2024-05-15T00:00:00",
          "2024-05-16T00:00:00",
          "2024-05-17T00:00:00",
          "2024-05-18T00:00:00",
          "2024-05-19T00:00:00",
          "2024-05-20T00:00:00",
          "2024-05-21T00:00:00",
          "2024-05-22T00:00:00",
          "2024-05-23T00:00:00",
          "2024-05-24T00:00:00",
          "2024-05-25T00:00:00",
          "2024-05-26T00:00:00",
          "2024-05-27T00:00:00",
          "2024-05-28T00:00:00",
          "2024-05-29T00:00:00",
          "2024-05-30T00:00:00",
          "2024-05-31T00:00:00",
          "2024-06-01T00:00:00",
          "2024-06-02T00:00:00",
          "2024-06-03T00:00:00",
          "2024-06-04T00:00:00",
          "2024-06-05T00:00:00",
          "2024-06-06T00:00:00",
          "2024-06-07T00:00:00",
          "2024-06-08T00:00:00",
          "2024-06-09T00:00:00",
          "2024-06-10T00:00:00",
          "2024-06-11T00:00:00",
          "2024-06-12T00:00:00",
          "2024-06-13T00:00:00",
          "2024-06-14T00:00:00",
          "2024-06-15T00:00:00",
          "2024-06-16T00:00:00",
          "2024-06-17T00:00:00",
          "2024-06-18T00:00:00",
          "2024-06-19T00:00:00",
          "2024-06-20T00:00:00",
          "2024-06-21T00:00:00",
          "2024-06-22T00:00:00",
          "2024-06-23T00:00:00",
          "2024-06-24T00:00:00",
          "2024-06-25T00:00:00",
          "2024-06-26T00:00:00",
          "2024-06-27T00:00:00",
          "2024-06-28T00:00:00",
          "2024-06-29T00:00:00",
          "2024-06-30T00:00:00",
          "2024-07-01T00:00:00",
          "2024-07-02T00:00:00",
          "2024-07-03T00:00:00",
          "2024-07-04T00:00:00",
          "2024-07-05T00:00:00",
          "2024-07-06T00:00:00",
          "2024-07-07T00:00:00",
          "2024-07-08T00:00:00",
          "2024-07-09T00:00:00",
          "2024-07-10T00:00:00",
          "2024-07-11T00:00:00",
          "2024-07-12T00:00:00",
          "2024-07-13T00:00:00",
          "2024-07-14T00:00:00",
          "2024-07-15T00:00:00",
          "2024-07-16T00:00:00",
          "2024-07-17T00:00:00",
          "2024-07-18T00:00:00",
          "2024-07-19T00:00:00",
          "2024-07-20T00:00:00",
          "2024-07-21T00:00:00",
          "2024-07-22T00:00:00",
          "2024-07-23T00:00:00",
          "2024-07-24T00:00:00",
          "2024-07-25T00:00:00",
          "2024-07-26T00:00:00",
          "2024-07-27T00:00:00",
          "2024-07-28T00:00:00",
          "2024-07-29T00:00:00",
          "2024-07-30T00:00:00",
          "2024-07-31T00:00:00",
          "2024-08-01T00:00:00",
          "2024-08-02T00:00:00",
          "2024-08-03T00:00:00",
          "2024-08-04T00:00:00",
          "2024-08-05T00:00:00",
          "2024-08-06T00:00:00",
          "2024-08-07T00:00:00",
          "2024-08-08T00:00:00",
          "2024-08-09T00:00:00",
          "2024-08-10T00:00:00",
          "2024-08-11T00:00:00",
          "2024-08-12T00:00:00",
          "2024-08-13T00:00:00",
          "2024-08-14T00:00:00",
          "2024-08-15T00:00:00",
          "2024-08-16T00:00:00",
          "2024-08-17T00:00:00",
          "2024-08-18T00:00:00",
          "2024-08-19T00:00:00",
          "2024-08-20T00:00:00",
          "2024-08-21T00:00:00",
          "2024-08-22T00:00:00",
          "2024-08-23T00:00:00",
          "2024-08-24T00:00:00",
          "2024-08-25T00:00:00",
          "2024-08-26T00:00:00",
          "2024-08-27T00:00:00",
          "2024-08-28T00:00:00",
          "2024-08-29T00:00:00",
          "2024-08-30T00:00:00",
          "2024-08-31T00:00:00",
          "2024-09-01T00:00:00",
          "2024-09-02T00:00:00",
          "2024-09-03T00:00:00",
          "2024-09-04T00:00:00",
          "2024-09-05T00:00:00",
          "2024-09-06T00:00:00",
          "2024-09-07T00:00:00",
          "2024-09-08T00:00:00",
          "2024-09-09T00:00:00",
          "2024-09-10T00:00:00",
          "2024-09-11T00:00:00",
          "2024-09-12T00:00:00",
          "2024-09-13T00:00:00",
          "2024-09-14T00:00:00",
          "2024-09-15T00:00:00",
          "2024-09-16T00:00:00",
          "2024-09-17T00:00:00",
          "2024-09-18T00:00:00",
          "2024-09-19T00:00:00",
          "2024-09-20T00:00:00",
          "2024-09-21T00:00:00",
          "2024-09-22T00:00:00",
          "2024-09-23T00:00:00",
          "2024-09-24T00:00:00",
          "2024-09-25T00:00:00",
          "2024-09-26T00:00:00",
          "2024-09-27T00:00:00",
          "2024-09-28T00:00:00",
          "2024-09-29T00:00:00",
          "2024-09-30T00:00:00",
          "2024-10-01T00:00:00",
          "2024-10-02T00:00:00",
          "2024-10-03T00:00:00",
          "2024-10-04T00:00:00",
          "2024-10-05T00:00:00",
          "2024-10-06T00:00:00",
          "2024-10-07T00:00:00",
          "2024-10-08T00:00:00",
          "2024-10-09T00:00:00",
          "2024-10-10T00:00:00",
          "2024-10-11T00:00:00",
          "2024-10-12T00:00:00",
          "2024-10-13T00:00:00",
          "2024-10-14T00:00:00",
          "2024-10-15T00:00:00",
          "2024-10-16T00:00:00",
          "2024-10-17T00:00:00",
          "2024-10-18T00:00:00",
          "2024-10-19T00:00:00",
          "2024-10-20T00:00:00",
          "2024-10-21T00:00:00",
          "2024-10-22T00:00:00",
          "2024-10-23T00:00:00",
          "2024-10-24T00:00:00",
          "2024-10-25T00:00:00",
          "2024-10-26T00:00:00",
          "2024-10-27T00:00:00",
          "2024-10-28T00:00:00",
          "2024-10-29T00:00:00",
          "2024-10-30T00:00:00",
          "2024-10-31T00:00:00",
          "2024-11-01T00:00:00",
          "2024-11-02T00:00:00",
          "2024-11-03T00:00:00",
          "2024-11-04T00:00:00",
          "2024-11-05T00:00:00",
          "2024-11-06T00:00:00",
          "2024-11-07T00:00:00",
          "2024-11-08T00:00:00",
          "2024-11-09T00:00:00",
          "2024-11-10T00:00:00",
          "2024-11-11T00:00:00",
          "2024-11-12T00:00:00",
          "2024-11-13T00:00:00",
          "2024-11-14T00:00:00",
          "2024-11-15T00:00:00",
          "2024-11-16T00:00:00",
          "2024-11-17T00:00:00",
          "2024-11-18T00:00:00",
          "2024-11-19T00:00:00",
          "2024-11-20T00:00:00",
          "2024-11-21T00:00:00",
          "2024-11-22T00:00:00",
          "2024-11-23T00:00:00",
          "2024-11-24T00:00:00",
          "2024-11-25T00:00:00",
          "2024-11-26T00:00:00",
          "2024-11-27T00:00:00",
          "2024-11-28T00:00:00",
          "2024-11-29T00:00:00",
          "2024-11-30T00:00:00",
          "2024-12-01T00:00:00",
          "2024-12-02T00:00:00",
          "2024-12-03T00:00:00",
          "2024-12-04T00:00:00",
          "2024-12-05T00:00:00",
          "2024-12-06T00:00:00",
          "2024-12-07T00:00:00",
          "2024-12-08T00:00:00",
          "2024-12-09T00:00:00",
          "2024-12-10T00:00:00",
          "2024-12-11T00:00:00",
          "2024-12-12T00:00:00",
          "2024-12-13T00:00:00",
          "2024-12-14T00:00:00",
          "2024-12-15T00:00:00",
          "2024-12-16T00:00:00",
          "2024-12-17T00:00:00",
          "2024-12-18T00:00:00",
          "2024-12-19T00:00:00",
          "2024-12-20T00:00:00",
          "2024-12-21T00:00:00",
          "2024-12-22T00:00:00",
          "2024-12-23T00:00:00",
          "2024-12-24T00:00:00",
          "2024-12-25T00:00:00",
          "2024-12-26T00:00:00",
          "2024-12-27T00:00:00",
          "2024-12-28T00:00:00",
          "2024-12-29T00:00:00",
          "2024-12-30T00:00:00",
          "2024-12-31T00:00:00",
          "2025-01-01T00:00:00",
          "2025-01-02T00:00:00",
          "2025-01-03T00:00:00",
          "2025-01-04T00:00:00",
          "2025-01-05T00:00:00",
          "2025-01-06T00:00:00",
          "2025-01-07T00:00:00",
          "2025-01-08T00:00:00",
          "2025-01-09T00:00:00",
          "2025-01-10T00:00:00",
          "2025-01-11T00:00:00",
          "2025-01-12T00:00:00",
          "2025-01-13T00:00:00",
          "2025-01-14T00:00:00",
          "2025-01-15T00:00:00",
          "2025-01-16T00:00:00",
          "2025-01-17T00:00:00",
          "2025-01-18T00:00:00",
          "2025-01-19T00:00:00",
          "2025-01-20T00:00:00",
          "2025-01-21T00:00:00",
          "2025-01-22T00:00:00",
          "2025-01-23T00:00:00",
          "2025-01-24T00:00:00",
          "2025-01-25T00:00:00",
          "2025-01-26T00:00:00",
          "2025-01-27T00:00:00",
          "2025-01-28T00:00:00",
          "2025-01-29T00:00:00",
          "2025-01-30T00:00:00",
          "2025-01-31T00:00:00",
          "2025-02-01T00:00:00",
          "2025-02-02T00:00:00",
          "2025-02-03T00:00:00",
          "2025-02-04T00:00:00",
          "2025-02-05T00:00:00",
          "2025-02-06T00:00:00",
          "2025-02-07T00:00:00",
          "2025-02-08T00:00:00",
          "2025-02-09T00:00:00",
          "2025-02-10T00:00:00",
          "2025-02-11T00:00:00",
          "2025-02-12T00:00:00",
          "2025-02-13T00:00:00",
          "2025-02-14T00:00:00",
          "2025-02-15T00:00:00",
          "2025-02-16T00:00:00",
          "2025-02-17T00:00:00",
          "2025-02-18T00:00:00",
          "2025-02-19T00:00:00",
          "2025-02-20T00:00:00",
          "2025-02-21T00:00:00",
          "2025-02-22T00:00:00",
          "2025-02-23T00:00:00",
          "2025-02-24T00:00:00",
          "2025-02-25T00:00:00",
          "2025-02-26T00:00:00",
          "2025-02-27T00:00:00",
          "2025-02-28T00:00:00",
          "2025-03-01T00:00:00",
          "2025-03-02T00:00:00",
          "2025-03-03T00:00:00",
          "2025-03-04T00:00:00",
          "2025-03-05T00:00:00",
          "2025-03-06T00:00:00",
          "2025-03-07T00:00:00",
          "2025-03-08T00:00:00",
          "2025-03-09T00:00:00",
          "2025-03-10T00:00:00",
          "2025-03-11T00:00:00",
          "2025-03-12T00:00:00",
          "2025-03-13T00:00:00",
          "2025-03-14T00:00:00",
          "2025-03-15T00:00:00",
          "2025-03-16T00:00:00",
          "2025-03-17T00:00:00",
          "2025-03-18T00:00:00",
          "2025-03-19T00:00:00",
          "2025-03-20T00:00:00",
          "2025-03-21T00:00:00",
          "2025-03-22T00:00:00",
          "2025-03-23T00:00:00",
          "2025-03-24T00:00:00",
          "2025-03-25T00:00:00",
          "2025-03-26T00:00:00",
          "2025-03-27T00:00:00",
          "2025-03-28T00:00:00",
          "2025-03-29T00:00:00",
          "2025-03-30T00:00:00",
          "2025-03-31T00:00:00",
          "2025-04-01T00:00:00",
          "2025-04-02T00:00:00",
          "2025-04-03T00:00:00",
          "2025-04-04T00:00:00",
          "2025-04-05T00:00:00",
          "2025-04-06T00:00:00",
          "2025-04-07T00:00:00",
          "2025-04-08T00:00:00",
          "2025-04-09T00:00:00",
          "2025-04-10T00:00:00",
          "2025-04-11T00:00:00",
          "2025-04-12T00:00:00",
          "2025-04-13T00:00:00",
          "2025-04-14T00:00:00",
          "2025-04-15T00:00:00",
          "2025-04-16T00:00:00",
          "2025-04-17T00:00:00",
          "2025-04-18T00:00:00",
          "2025-04-19T00:00:00",
          "2025-04-20T00:00:00",
          "2025-04-21T00:00:00",
          "2025-04-22T00:00:00",
          "2025-04-23T00:00:00",
          "2025-04-24T00:00:00",
          "2025-04-25T00:00:00",
          "2025-04-26T00:00:00",
          "2025-04-27T00:00:00",
          "2025-04-28T00:00:00",
          "2025-04-29T00:00:00",
          "2025-04-30T00:00:00",
          "2025-05-01T00:00:00",
          "2025-05-02T00:00:00",
          "2025-05-03T00:00:00",
          "2025-05-04T00:00:00",
          "2025-05-05T00:00:00",
          "2025-05-06T00:00:00",
          "2025-05-07T00:00:00",
          "2025-05-08T00:00:00",
          "2025-05-09T00:00:00",
          "2025-05-10T00:00:00",
          "2025-05-11T00:00:00",
          "2025-05-12T00:00:00",
          "2025-05-13T00:00:00",
          "2025-05-14T00:00:00",
          "2025-05-15T00:00:00",
          "2025-05-16T00:00:00",
          "2025-05-17T00:00:00",
          "2025-05-18T00:00:00",
          "2025-05-19T00:00:00",
          "2025-05-20T00:00:00",
          "2025-05-21T00:00:00",
          "2025-05-22T00:00:00",
          "2025-05-23T00:00:00",
          "2025-05-24T00:00:00",
          "2025-05-25T00:00:00",
          "2025-05-26T00:00:00",
          "2025-05-27T00:00:00",
          "2025-05-28T00:00:00",
          "2025-05-29T00:00:00",
          "2025-05-30T00:00:00",
          "2025-05-31T00:00:00",
          "2025-06-01T00:00:00",
          "2025-06-02T00:00:00",
          "2025-06-03T00:00:00",
          "2025-06-04T00:00:00",
          "2025-06-05T00:00:00",
          "2025-06-06T00:00:00",
          "2025-06-07T00:00:00",
          "2025-06-08T00:00:00",
          "2025-06-09T00:00:00",
          "2025-06-10T00:00:00",
          "2025-06-11T00:00:00",
          "2025-06-12T00:00:00",
          "2025-06-13T00:00:00",
          "2025-06-14T00:00:00",
          "2025-06-15T00:00:00",
          "2025-06-16T00:00:00",
          "2025-06-17T00:00:00",
          "2025-06-18T00:00:00",
          "2025-06-19T00:00:00",
          "2025-06-20T00:00:00",
          "2025-06-21T00:00:00",
          "2025-06-22T00:00:00",
          "2025-06-23T00:00:00",
          "2025-06-24T00:00:00",
          "2025-06-25T00:00:00",
          "2025-06-26T00:00:00",
          "2025-06-27T00:00:00",
          "2025-06-28T00:00:00",
          "2025-06-29T00:00:00",
          "2025-06-30T00:00:00",
          "2025-07-01T00:00:00",
          "2025-07-02T00:00:00",
          "2025-07-03T00:00:00",
          "2025-07-04T00:00:00",
          "2025-07-05T00:00:00",
          "2025-07-06T00:00:00",
          "2025-07-07T00:00:00",
          "2025-07-08T00:00:00",
          "2025-07-09T00:00:00",
          "2025-07-10T00:00:00",
          "2025-07-11T00:00:00",
          "2025-07-12T00:00:00",
          "2025-07-13T00:00:00",
          "2025-07-14T00:00:00",
          "2025-07-15T00:00:00",
          "2025-07-16T00:00:00",
          "2025-07-17T00:00:00",
          "2025-07-18T00:00:00",
          "2025-07-19T00:00:00",
          "2025-07-20T00:00:00",
          "2025-07-21T00:00:00",
          "2025-07-22T00:00:00",
          "2025-07-23T00:00:00",
          "2025-07-24T00:00:00",
          "2025-07-25T00:00:00",
          "2025-07-26T00:00:00",
          "2025-07-27T00:00:00",
          "2025-07-28T00:00:00",
          "2025-07-29T00:00:00",
          "2025-07-30T00:00:00",
          "2025-07-31T00:00:00",
          "2025-08-01T00:00:00",
          "2025-08-02T00:00:00",
          "2025-08-03T00:00:00",
          "2025-08-04T00:00:00",
          "2025-08-05T00:00:00",
          "2025-08-06T00:00:00",
          "2025-08-07T00:00:00",
          "2025-08-08T00:00:00",
          "2025-08-09T00:00:00",
          "2025-08-10T00:00:00",
          "2025-08-11T00:00:00",
          "2025-08-12T00:00:00",
          "2025-08-13T00:00:00",
          "2025-08-14T00:00:00",
          "2025-08-15T00:00:00",
          "2025-08-16T00:00:00",
          "2025-08-17T00:00:00",
          "2025-08-18T00:00:00",
          "2025-08-19T00:00:00",
          "2025-08-20T00:00:00",
          "2025-08-21T00:00:00",
          "2025-08-22T00:00:00"
         ],
         "y": {
          "bdata": "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",
          "dtype": "f8"
         }
        },
        {
         "line": {
          "color": "green"
         },
         "name": "Forecast",
         "type": "scatter",
         "x": [
          "2024-01-01T00:00:00",
          "2024-01-02T00:00:00",
          "2024-01-03T00:00:00",
          "2024-01-04T00:00:00",
          "2024-01-05T00:00:00",
          "2024-01-06T00:00:00",
          "2024-01-07T00:00:00",
          "2024-01-08T00:00:00",
          "2024-01-09T00:00:00",
          "2024-01-10T00:00:00",
          "2024-01-11T00:00:00",
          "2024-01-12T00:00:00",
          "2024-01-13T00:00:00",
          "2024-01-14T00:00:00",
          "2024-01-15T00:00:00",
          "2024-01-16T00:00:00",
          "2024-01-17T00:00:00",
          "2024-01-18T00:00:00",
          "2024-01-19T00:00:00",
          "2024-01-20T00:00:00",
          "2024-01-21T00:00:00",
          "2024-01-22T00:00:00",
          "2024-01-23T00:00:00",
          "2024-01-24T00:00:00",
          "2024-01-25T00:00:00",
          "2024-01-26T00:00:00",
          "2024-01-27T00:00:00",
          "2024-01-28T00:00:00",
          "2024-01-29T00:00:00",
          "2024-01-30T00:00:00",
          "2024-01-31T00:00:00",
          "2024-02-01T00:00:00",
          "2024-02-02T00:00:00",
          "2024-02-03T00:00:00",
          "2024-02-04T00:00:00",
          "2024-02-05T00:00:00",
          "2024-02-06T00:00:00",
          "2024-02-07T00:00:00",
          "2024-02-08T00:00:00",
          "2024-02-09T00:00:00",
          "2024-02-10T00:00:00",
          "2024-02-11T00:00:00",
          "2024-02-12T00:00:00",
          "2024-02-13T00:00:00",
          "2024-02-14T00:00:00",
          "2024-02-15T00:00:00",
          "2024-02-16T00:00:00",
          "2024-02-17T00:00:00",
          "2024-02-18T00:00:00",
          "2024-02-19T00:00:00",
          "2024-02-20T00:00:00",
          "2024-02-21T00:00:00",
          "2024-02-22T00:00:00",
          "2024-02-23T00:00:00",
          "2024-02-24T00:00:00",
          "2024-02-25T00:00:00",
          "2024-02-26T00:00:00",
          "2024-02-27T00:00:00",
          "2024-02-28T00:00:00",
          "2024-02-29T00:00:00",
          "2024-03-01T00:00:00",
          "2024-03-02T00:00:00",
          "2024-03-03T00:00:00",
          "2024-03-04T00:00:00",
          "2024-03-05T00:00:00",
          "2024-03-06T00:00:00",
          "2024-03-07T00:00:00",
          "2024-03-08T00:00:00",
          "2024-03-09T00:00:00",
          "2024-03-10T00:00:00",
          "2024-03-11T00:00:00",
          "2024-03-12T00:00:00",
          "2024-03-13T00:00:00",
          "2024-03-14T00:00:00",
          "2024-03-15T00:00:00",
          "2024-03-16T00:00:00",
          "2024-03-17T00:00:00",
          "2024-03-18T00:00:00",
          "2024-03-19T00:00:00",
          "2024-03-20T00:00:00",
          "2024-03-21T00:00:00",
          "2024-03-22T00:00:00",
          "2024-03-23T00:00:00",
          "2024-03-24T00:00:00",
          "2024-03-25T00:00:00",
          "2024-03-26T00:00:00",
          "2024-03-27T00:00:00",
          "2024-03-28T00:00:00",
          "2024-03-29T00:00:00",
          "2024-03-30T00:00:00",
          "2024-03-31T00:00:00",
          "2024-04-01T00:00:00",
          "2024-04-02T00:00:00",
          "2024-04-03T00:00:00",
          "2024-04-04T00:00:00",
          "2024-04-05T00:00:00",
          "2024-04-06T00:00:00",
          "2024-04-07T00:00:00",
          "2024-04-08T00:00:00",
          "2024-04-09T00:00:00",
          "2024-04-10T00:00:00",
          "2024-04-11T00:00:00",
          "2024-04-12T00:00:00",
          "2024-04-13T00:00:00",
          "2024-04-14T00:00:00",
          "2024-04-15T00:00:00",
          "2024-04-16T00:00:00",
          "2024-04-17T00:00:00",
          "2024-04-18T00:00:00",
          "2024-04-19T00:00:00",
          "2024-04-20T00:00:00",
          "2024-04-21T00:00:00",
          "2024-04-22T00:00:00",
          "2024-04-23T00:00:00",
          "2024-04-24T00:00:00",
          "2024-04-25T00:00:00",
          "2024-04-26T00:00:00",
          "2024-04-27T00:00:00",
          "2024-04-28T00:00:00",
          "2024-04-29T00:00:00",
          "2024-04-30T00:00:00",
          "2024-05-01T00:00:00",
          "2024-05-02T00:00:00",
          "2024-05-03T00:00:00",
          "2024-05-04T00:00:00",
          "2024-05-05T00:00:00",
          "2024-05-06T00:00:00",
          "2024-05-07T00:00:00",
          "2024-05-08T00:00:00",
          "2024-05-09T00:00:00",
          "2024-05-10T00:00:00",
          "2024-05-11T00:00:00",
          "2024-05-12T00:00:00",
          "2024-05-13T00:00:00",
          "2024-05-14T00:00:00",
          "2024-05-15T00:00:00",
          "2024-05-16T00:00:00",
          "2024-05-17T00:00:00",
          "2024-05-18T00:00:00",
          "2024-05-19T00:00:00",
          "2024-05-20T00:00:00",
          "2024-05-21T00:00:00",
          "2024-05-22T00:00:00",
          "2024-05-23T00:00:00",
          "2024-05-24T00:00:00",
          "2024-05-25T00:00:00",
          "2024-05-26T00:00:00",
          "2024-05-27T00:00:00",
          "2024-05-28T00:00:00",
          "2024-05-29T00:00:00",
          "2024-05-30T00:00:00",
          "2024-05-31T00:00:00",
          "2024-06-01T00:00:00",
          "2024-06-02T00:00:00",
          "2024-06-03T00:00:00",
          "2024-06-04T00:00:00",
          "2024-06-05T00:00:00",
          "2024-06-06T00:00:00",
          "2024-06-07T00:00:00",
          "2024-06-08T00:00:00",
          "2024-06-09T00:00:00",
          "2024-06-10T00:00:00",
          "2024-06-11T00:00:00",
          "2024-06-12T00:00:00",
          "2024-06-13T00:00:00",
          "2024-06-14T00:00:00",
          "2024-06-15T00:00:00",
          "2024-06-16T00:00:00",
          "2024-06-17T00:00:00",
          "2024-06-18T00:00:00",
          "2024-06-19T00:00:00",
          "2024-06-20T00:00:00",
          "2024-06-21T00:00:00",
          "2024-06-22T00:00:00",
          "2024-06-23T00:00:00",
          "2024-06-24T00:00:00",
          "2024-06-25T00:00:00",
          "2024-06-26T00:00:00",
          "2024-06-27T00:00:00",
          "2024-06-28T00:00:00",
          "2024-06-29T00:00:00",
          "2024-06-30T00:00:00",
          "2024-07-01T00:00:00",
          "2024-07-02T00:00:00",
          "2024-07-03T00:00:00",
          "2024-07-04T00:00:00",
          "2024-07-05T00:00:00",
          "2024-07-06T00:00:00",
          "2024-07-07T00:00:00",
          "2024-07-08T00:00:00",
          "2024-07-09T00:00:00",
          "2024-07-10T00:00:00",
          "2024-07-11T00:00:00",
          "2024-07-12T00:00:00",
          "2024-07-13T00:00:00",
          "2024-07-14T00:00:00",
          "2024-07-15T00:00:00",
          "2024-07-16T00:00:00",
          "2024-07-17T00:00:00",
          "2024-07-18T00:00:00",
          "2024-07-19T00:00:00",
          "2024-07-20T00:00:00",
          "2024-07-21T00:00:00",
          "2024-07-22T00:00:00",
          "2024-07-23T00:00:00",
          "2024-07-24T00:00:00",
          "2024-07-25T00:00:00",
          "2024-07-26T00:00:00",
          "2024-07-27T00:00:00",
          "2024-07-28T00:00:00",
          "2024-07-29T00:00:00",
          "2024-07-30T00:00:00",
          "2024-07-31T00:00:00",
          "2024-08-01T00:00:00",
          "2024-08-02T00:00:00",
          "2024-08-03T00:00:00",
          "2024-08-04T00:00:00",
          "2024-08-05T00:00:00",
          "2024-08-06T00:00:00",
          "2024-08-07T00:00:00",
          "2024-08-08T00:00:00",
          "2024-08-09T00:00:00",
          "2024-08-10T00:00:00",
          "2024-08-11T00:00:00",
          "2024-08-12T00:00:00",
          "2024-08-13T00:00:00",
          "2024-08-14T00:00:00",
          "2024-08-15T00:00:00",
          "2024-08-16T00:00:00",
          "2024-08-17T00:00:00",
          "2024-08-18T00:00:00",
          "2024-08-19T00:00:00",
          "2024-08-20T00:00:00",
          "2024-08-21T00:00:00",
          "2024-08-22T00:00:00",
          "2024-08-23T00:00:00",
          "2024-08-24T00:00:00",
          "2024-08-25T00:00:00",
          "2024-08-26T00:00:00",
          "2024-08-27T00:00:00",
          "2024-08-28T00:00:00",
          "2024-08-29T00:00:00",
          "2024-08-30T00:00:00",
          "2024-08-31T00:00:00",
          "2024-09-01T00:00:00",
          "2024-09-02T00:00:00",
          "2024-09-03T00:00:00",
          "2024-09-04T00:00:00",
          "2024-09-05T00:00:00",
          "2024-09-06T00:00:00",
          "2024-09-07T00:00:00",
          "2024-09-08T00:00:00",
          "2024-09-09T00:00:00",
          "2024-09-10T00:00:00",
          "2024-09-11T00:00:00",
          "2024-09-12T00:00:00",
          "2024-09-13T00:00:00",
          "2024-09-14T00:00:00",
          "2024-09-15T00:00:00",
          "2024-09-16T00:00:00",
          "2024-09-17T00:00:00",
          "2024-09-18T00:00:00",
          "2024-09-19T00:00:00",
          "2024-09-20T00:00:00",
          "2024-09-21T00:00:00",
          "2024-09-22T00:00:00",
          "2024-09-23T00:00:00",
          "2024-09-24T00:00:00",
          "2024-09-25T00:00:00",
          "2024-09-26T00:00:00",
          "2024-09-27T00:00:00",
          "2024-09-28T00:00:00",
          "2024-09-29T00:00:00",
          "2024-09-30T00:00:00",
          "2024-10-01T00:00:00",
          "2024-10-02T00:00:00",
          "2024-10-03T00:00:00",
          "2024-10-04T00:00:00",
          "2024-10-05T00:00:00",
          "2024-10-06T00:00:00",
          "2024-10-07T00:00:00",
          "2024-10-08T00:00:00",
          "2024-10-09T00:00:00",
          "2024-10-10T00:00:00",
          "2024-10-11T00:00:00",
          "2024-10-12T00:00:00",
          "2024-10-13T00:00:00",
          "2024-10-14T00:00:00",
          "2024-10-15T00:00:00",
          "2024-10-16T00:00:00",
          "2024-10-17T00:00:00",
          "2024-10-18T00:00:00",
          "2024-10-19T00:00:00",
          "2024-10-20T00:00:00",
          "2024-10-21T00:00:00",
          "2024-10-22T00:00:00",
          "2024-10-23T00:00:00",
          "2024-10-24T00:00:00",
          "2024-10-25T00:00:00",
          "2024-10-26T00:00:00",
          "2024-10-27T00:00:00",
          "2024-10-28T00:00:00",
          "2024-10-29T00:00:00",
          "2024-10-30T00:00:00",
          "2024-10-31T00:00:00",
          "2024-11-01T00:00:00",
          "2024-11-02T00:00:00",
          "2024-11-03T00:00:00",
          "2024-11-04T00:00:00",
          "2024-11-05T00:00:00",
          "2024-11-06T00:00:00",
          "2024-11-07T00:00:00",
          "2024-11-08T00:00:00",
          "2024-11-09T00:00:00",
          "2024-11-10T00:00:00",
          "2024-11-11T00:00:00",
          "2024-11-12T00:00:00",
          "2024-11-13T00:00:00",
          "2024-11-14T00:00:00",
          "2024-11-15T00:00:00",
          "2024-11-16T00:00:00",
          "2024-11-17T00:00:00",
          "2024-11-18T00:00:00",
          "2024-11-19T00:00:00",
          "2024-11-20T00:00:00",
          "2024-11-21T00:00:00",
          "2024-11-22T00:00:00",
          "2024-11-23T00:00:00",
          "2024-11-24T00:00:00",
          "2024-11-25T00:00:00",
          "2024-11-26T00:00:00",
          "2024-11-27T00:00:00",
          "2024-11-28T00:00:00",
          "2024-11-29T00:00:00",
          "2024-11-30T00:00:00",
          "2024-12-01T00:00:00",
          "2024-12-02T00:00:00",
          "2024-12-03T00:00:00",
          "2024-12-04T00:00:00",
          "2024-12-05T00:00:00",
          "2024-12-06T00:00:00",
          "2024-12-07T00:00:00",
          "2024-12-08T00:00:00",
          "2024-12-09T00:00:00",
          "2024-12-10T00:00:00",
          "2024-12-11T00:00:00",
          "2024-12-12T00:00:00",
          "2024-12-13T00:00:00",
          "2024-12-14T00:00:00",
          "2024-12-15T00:00:00",
          "2024-12-16T00:00:00",
          "2024-12-17T00:00:00",
          "2024-12-18T00:00:00",
          "2024-12-19T00:00:00",
          "2024-12-20T00:00:00",
          "2024-12-21T00:00:00",
          "2024-12-22T00:00:00",
          "2024-12-23T00:00:00",
          "2024-12-24T00:00:00",
          "2024-12-25T00:00:00",
          "2024-12-26T00:00:00",
          "2024-12-27T00:00:00",
          "2024-12-28T00:00:00",
          "2024-12-29T00:00:00",
          "2024-12-30T00:00:00",
          "2024-12-31T00:00:00",
          "2025-01-01T00:00:00",
          "2025-01-02T00:00:00",
          "2025-01-03T00:00:00",
          "2025-01-04T00:00:00",
          "2025-01-05T00:00:00",
          "2025-01-06T00:00:00",
          "2025-01-07T00:00:00",
          "2025-01-08T00:00:00",
          "2025-01-09T00:00:00",
          "2025-01-10T00:00:00",
          "2025-01-11T00:00:00",
          "2025-01-12T00:00:00",
          "2025-01-13T00:00:00",
          "2025-01-14T00:00:00",
          "2025-01-15T00:00:00",
          "2025-01-16T00:00:00",
          "2025-01-17T00:00:00",
          "2025-01-18T00:00:00",
          "2025-01-19T00:00:00",
          "2025-01-20T00:00:00",
          "2025-01-21T00:00:00",
          "2025-01-22T00:00:00",
          "2025-01-23T00:00:00",
          "2025-01-24T00:00:00",
          "2025-01-25T00:00:00",
          "2025-01-26T00:00:00",
          "2025-01-27T00:00:00",
          "2025-01-28T00:00:00",
          "2025-01-29T00:00:00",
          "2025-01-30T00:00:00",
          "2025-01-31T00:00:00",
          "2025-02-01T00:00:00",
          "2025-02-02T00:00:00",
          "2025-02-03T00:00:00",
          "2025-02-04T00:00:00",
          "2025-02-05T00:00:00",
          "2025-02-06T00:00:00",
          "2025-02-07T00:00:00",
          "2025-02-08T00:00:00",
          "2025-02-09T00:00:00",
          "2025-02-10T00:00:00",
          "2025-02-11T00:00:00",
          "2025-02-12T00:00:00",
          "2025-02-13T00:00:00",
          "2025-02-14T00:00:00",
          "2025-02-15T00:00:00",
          "2025-02-16T00:00:00",
          "2025-02-17T00:00:00",
          "2025-02-18T00:00:00",
          "2025-02-19T00:00:00",
          "2025-02-20T00:00:00",
          "2025-02-21T00:00:00",
          "2025-02-22T00:00:00",
          "2025-02-23T00:00:00",
          "2025-02-24T00:00:00",
          "2025-02-25T00:00:00",
          "2025-02-26T00:00:00",
          "2025-02-27T00:00:00",
          "2025-02-28T00:00:00",
          "2025-03-01T00:00:00",
          "2025-03-02T00:00:00",
          "2025-03-03T00:00:00",
          "2025-03-04T00:00:00",
          "2025-03-05T00:00:00",
          "2025-03-06T00:00:00",
          "2025-03-07T00:00:00",
          "2025-03-08T00:00:00",
          "2025-03-09T00:00:00",
          "2025-03-10T00:00:00",
          "2025-03-11T00:00:00",
          "2025-03-12T00:00:00",
          "2025-03-13T00:00:00",
          "2025-03-14T00:00:00",
          "2025-03-15T00:00:00",
          "2025-03-16T00:00:00",
          "2025-03-17T00:00:00",
          "2025-03-18T00:00:00",
          "2025-03-19T00:00:00",
          "2025-03-20T00:00:00",
          "2025-03-21T00:00:00",
          "2025-03-22T00:00:00",
          "2025-03-23T00:00:00",
          "2025-03-24T00:00:00",
          "2025-03-25T00:00:00",
          "2025-03-26T00:00:00",
          "2025-03-27T00:00:00",
          "2025-03-28T00:00:00",
          "2025-03-29T00:00:00",
          "2025-03-30T00:00:00",
          "2025-03-31T00:00:00",
          "2025-04-01T00:00:00",
          "2025-04-02T00:00:00",
          "2025-04-03T00:00:00",
          "2025-04-04T00:00:00",
          "2025-04-05T00:00:00",
          "2025-04-06T00:00:00",
          "2025-04-07T00:00:00",
          "2025-04-08T00:00:00",
          "2025-04-09T00:00:00",
          "2025-04-10T00:00:00",
          "2025-04-11T00:00:00",
          "2025-04-12T00:00:00",
          "2025-04-13T00:00:00",
          "2025-04-14T00:00:00",
          "2025-04-15T00:00:00",
          "2025-04-16T00:00:00",
          "2025-04-17T00:00:00",
          "2025-04-18T00:00:00",
          "2025-04-19T00:00:00",
          "2025-04-20T00:00:00",
          "2025-04-21T00:00:00",
          "2025-04-22T00:00:00",
          "2025-04-23T00:00:00",
          "2025-04-24T00:00:00",
          "2025-04-25T00:00:00",
          "2025-04-26T00:00:00",
          "2025-04-27T00:00:00",
          "2025-04-28T00:00:00",
          "2025-04-29T00:00:00",
          "2025-04-30T00:00:00",
          "2025-05-01T00:00:00",
          "2025-05-02T00:00:00",
          "2025-05-03T00:00:00",
          "2025-05-04T00:00:00",
          "2025-05-05T00:00:00",
          "2025-05-06T00:00:00",
          "2025-05-07T00:00:00",
          "2025-05-08T00:00:00",
          "2025-05-09T00:00:00",
          "2025-05-10T00:00:00",
          "2025-05-11T00:00:00",
          "2025-05-12T00:00:00",
          "2025-05-13T00:00:00",
          "2025-05-14T00:00:00",
          "2025-05-15T00:00:00",
          "2025-05-16T00:00:00",
          "2025-05-17T00:00:00",
          "2025-05-18T00:00:00",
          "2025-05-19T00:00:00",
          "2025-05-20T00:00:00",
          "2025-05-21T00:00:00",
          "2025-05-22T00:00:00",
          "2025-05-23T00:00:00",
          "2025-05-24T00:00:00",
          "2025-05-25T00:00:00",
          "2025-05-26T00:00:00",
          "2025-05-27T00:00:00",
          "2025-05-28T00:00:00",
          "2025-05-29T00:00:00",
          "2025-05-30T00:00:00",
          "2025-05-31T00:00:00",
          "2025-06-01T00:00:00",
          "2025-06-02T00:00:00",
          "2025-06-03T00:00:00",
          "2025-06-04T00:00:00",
          "2025-06-05T00:00:00",
          "2025-06-06T00:00:00",
          "2025-06-07T00:00:00",
          "2025-06-08T00:00:00",
          "2025-06-09T00:00:00",
          "2025-06-10T00:00:00",
          "2025-06-11T00:00:00",
          "2025-06-12T00:00:00",
          "2025-06-13T00:00:00",
          "2025-06-14T00:00:00",
          "2025-06-15T00:00:00",
          "2025-06-16T00:00:00",
          "2025-06-17T00:00:00",
          "2025-06-18T00:00:00",
          "2025-06-19T00:00:00",
          "2025-06-20T00:00:00",
          "2025-06-21T00:00:00",
          "2025-06-22T00:00:00",
          "2025-06-23T00:00:00",
          "2025-06-24T00:00:00",
          "2025-06-25T00:00:00",
          "2025-06-26T00:00:00",
          "2025-06-27T00:00:00",
          "2025-06-28T00:00:00",
          "2025-06-29T00:00:00",
          "2025-06-30T00:00:00",
          "2025-07-01T00:00:00",
          "2025-07-02T00:00:00",
          "2025-07-03T00:00:00",
          "2025-07-04T00:00:00",
          "2025-07-05T00:00:00",
          "2025-07-06T00:00:00",
          "2025-07-07T00:00:00",
          "2025-07-08T00:00:00",
          "2025-07-09T00:00:00",
          "2025-07-10T00:00:00",
          "2025-07-11T00:00:00",
          "2025-07-12T00:00:00",
          "2025-07-13T00:00:00",
          "2025-07-14T00:00:00",
          "2025-07-15T00:00:00",
          "2025-07-16T00:00:00",
          "2025-07-17T00:00:00",
          "2025-07-18T00:00:00",
          "2025-07-19T00:00:00",
          "2025-07-20T00:00:00",
          "2025-07-21T00:00:00",
          "2025-07-22T00:00:00",
          "2025-07-23T00:00:00",
          "2025-07-24T00:00:00",
          "2025-07-25T00:00:00",
          "2025-07-26T00:00:00",
          "2025-07-27T00:00:00",
          "2025-07-28T00:00:00",
          "2025-07-29T00:00:00",
          "2025-07-30T00:00:00",
          "2025-07-31T00:00:00",
          "2025-08-01T00:00:00",
          "2025-08-02T00:00:00",
          "2025-08-03T00:00:00",
          "2025-08-04T00:00:00",
          "2025-08-05T00:00:00",
          "2025-08-06T00:00:00",
          "2025-08-07T00:00:00",
          "2025-08-08T00:00:00",
          "2025-08-09T00:00:00",
          "2025-08-10T00:00:00",
          "2025-08-11T00:00:00",
          "2025-08-12T00:00:00",
          "2025-08-13T00:00:00",
          "2025-08-14T00:00:00",
          "2025-08-15T00:00:00",
          "2025-08-16T00:00:00",
          "2025-08-17T00:00:00",
          "2025-08-18T00:00:00",
          "2025-08-19T00:00:00",
          "2025-08-20T00:00:00",
          "2025-08-21T00:00:00",
          "2025-08-22T00:00:00"
         ],
         "y": {
          "bdata": "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",
          "dtype": "f8"
         }
        },
        {
         "line": {
          "color": "lightgreen",
          "dash": "dot"
         },
         "name": "Upper Bound",
         "showlegend": false,
         "type": "scatter",
         "x": [
          "2024-01-01T00:00:00",
          "2024-01-02T00:00:00",
          "2024-01-03T00:00:00",
          "2024-01-04T00:00:00",
          "2024-01-05T00:00:00",
          "2024-01-06T00:00:00",
          "2024-01-07T00:00:00",
          "2024-01-08T00:00:00",
          "2024-01-09T00:00:00",
          "2024-01-10T00:00:00",
          "2024-01-11T00:00:00",
          "2024-01-12T00:00:00",
          "2024-01-13T00:00:00",
          "2024-01-14T00:00:00",
          "2024-01-15T00:00:00",
          "2024-01-16T00:00:00",
          "2024-01-17T00:00:00",
          "2024-01-18T00:00:00",
          "2024-01-19T00:00:00",
          "2024-01-20T00:00:00",
          "2024-01-21T00:00:00",
          "2024-01-22T00:00:00",
          "2024-01-23T00:00:00",
          "2024-01-24T00:00:00",
          "2024-01-25T00:00:00",
          "2024-01-26T00:00:00",
          "2024-01-27T00:00:00",
          "2024-01-28T00:00:00",
          "2024-01-29T00:00:00",
          "2024-01-30T00:00:00",
          "2024-01-31T00:00:00",
          "2024-02-01T00:00:00",
          "2024-02-02T00:00:00",
          "2024-02-03T00:00:00",
          "2024-02-04T00:00:00",
          "2024-02-05T00:00:00",
          "2024-02-06T00:00:00",
          "2024-02-07T00:00:00",
          "2024-02-08T00:00:00",
          "2024-02-09T00:00:00",
          "2024-02-10T00:00:00",
          "2024-02-11T00:00:00",
          "2024-02-12T00:00:00",
          "2024-02-13T00:00:00",
          "2024-02-14T00:00:00",
          "2024-02-15T00:00:00",
          "2024-02-16T00:00:00",
          "2024-02-17T00:00:00",
          "2024-02-18T00:00:00",
          "2024-02-19T00:00:00",
          "2024-02-20T00:00:00",
          "2024-02-21T00:00:00",
          "2024-02-22T00:00:00",
          "2024-02-23T00:00:00",
          "2024-02-24T00:00:00",
          "2024-02-25T00:00:00",
          "2024-02-26T00:00:00",
          "2024-02-27T00:00:00",
          "2024-02-28T00:00:00",
          "2024-02-29T00:00:00",
          "2024-03-01T00:00:00",
          "2024-03-02T00:00:00",
          "2024-03-03T00:00:00",
          "2024-03-04T00:00:00",
          "2024-03-05T00:00:00",
          "2024-03-06T00:00:00",
          "2024-03-07T00:00:00",
          "2024-03-08T00:00:00",
          "2024-03-09T00:00:00",
          "2024-03-10T00:00:00",
          "2024-03-11T00:00:00",
          "2024-03-12T00:00:00",
          "2024-03-13T00:00:00",
          "2024-03-14T00:00:00",
          "2024-03-15T00:00:00",
          "2024-03-16T00:00:00",
          "2024-03-17T00:00:00",
          "2024-03-18T00:00:00",
          "2024-03-19T00:00:00",
          "2024-03-20T00:00:00",
          "2024-03-21T00:00:00",
          "2024-03-22T00:00:00",
          "2024-03-23T00:00:00",
          "2024-03-24T00:00:00",
          "2024-03-25T00:00:00",
          "2024-03-26T00:00:00",
          "2024-03-27T00:00:00",
          "2024-03-28T00:00:00",
          "2024-03-29T00:00:00",
          "2024-03-30T00:00:00",
          "2024-03-31T00:00:00",
          "2024-04-01T00:00:00",
          "2024-04-02T00:00:00",
          "2024-04-03T00:00:00",
          "2024-04-04T00:00:00",
          "2024-04-05T00:00:00",
          "2024-04-06T00:00:00",
          "2024-04-07T00:00:00",
          "2024-04-08T00:00:00",
          "2024-04-09T00:00:00",
          "2024-04-10T00:00:00",
          "2024-04-11T00:00:00",
          "2024-04-12T00:00:00",
          "2024-04-13T00:00:00",
          "2024-04-14T00:00:00",
          "2024-04-15T00:00:00",
          "2024-04-16T00:00:00",
          "2024-04-17T00:00:00",
          "2024-04-18T00:00:00",
          "2024-04-19T00:00:00",
          "2024-04-20T00:00:00",
          "2024-04-21T00:00:00",
          "2024-04-22T00:00:00",
          "2024-04-23T00:00:00",
          "2024-04-24T00:00:00",
          "2024-04-25T00:00:00",
          "2024-04-26T00:00:00",
          "2024-04-27T00:00:00",
          "2024-04-28T00:00:00",
          "2024-04-29T00:00:00",
          "2024-04-30T00:00:00",
          "2024-05-01T00:00:00",
          "2024-05-02T00:00:00",
          "2024-05-03T00:00:00",
          "2024-05-04T00:00:00",
          "2024-05-05T00:00:00",
          "2024-05-06T00:00:00",
          "2024-05-07T00:00:00",
          "2024-05-08T00:00:00",
          "2024-05-09T00:00:00",
          "2024-05-10T00:00:00",
          "2024-05-11T00:00:00",
          "2024-05-12T00:00:00",
          "2024-05-13T00:00:00",
          "2024-05-14T00:00:00",
          "2024-05-15T00:00:00",
          "2024-05-16T00:00:00",
          "2024-05-17T00:00:00",
          "2024-05-18T00:00:00",
          "2024-05-19T00:00:00",
          "2024-05-20T00:00:00",
          "2024-05-21T00:00:00",
          "2024-05-22T00:00:00",
          "2024-05-23T00:00:00",
          "2024-05-24T00:00:00",
          "2024-05-25T00:00:00",
          "2024-05-26T00:00:00",
          "2024-05-27T00:00:00",
          "2024-05-28T00:00:00",
          "2024-05-29T00:00:00",
          "2024-05-30T00:00:00",
          "2024-05-31T00:00:00",
          "2024-06-01T00:00:00",
          "2024-06-02T00:00:00",
          "2024-06-03T00:00:00",
          "2024-06-04T00:00:00",
          "2024-06-05T00:00:00",
          "2024-06-06T00:00:00",
          "2024-06-07T00:00:00",
          "2024-06-08T00:00:00",
          "2024-06-09T00:00:00",
          "2024-06-10T00:00:00",
          "2024-06-11T00:00:00",
          "2024-06-12T00:00:00",
          "2024-06-13T00:00:00",
          "2024-06-14T00:00:00",
          "2024-06-15T00:00:00",
          "2024-06-16T00:00:00",
          "2024-06-17T00:00:00",
          "2024-06-18T00:00:00",
          "2024-06-19T00:00:00",
          "2024-06-20T00:00:00",
          "2024-06-21T00:00:00",
          "2024-06-22T00:00:00",
          "2024-06-23T00:00:00",
          "2024-06-24T00:00:00",
          "2024-06-25T00:00:00",
          "2024-06-26T00:00:00",
          "2024-06-27T00:00:00",
          "2024-06-28T00:00:00",
          "2024-06-29T00:00:00",
          "2024-06-30T00:00:00",
          "2024-07-01T00:00:00",
          "2024-07-02T00:00:00",
          "2024-07-03T00:00:00",
          "2024-07-04T00:00:00",
          "2024-07-05T00:00:00",
          "2024-07-06T00:00:00",
          "2024-07-07T00:00:00",
          "2024-07-08T00:00:00",
          "2024-07-09T00:00:00",
          "2024-07-10T00:00:00",
          "2024-07-11T00:00:00",
          "2024-07-12T00:00:00",
          "2024-07-13T00:00:00",
          "2024-07-14T00:00:00",
          "2024-07-15T00:00:00",
          "2024-07-16T00:00:00",
          "2024-07-17T00:00:00",
          "2024-07-18T00:00:00",
          "2024-07-19T00:00:00",
          "2024-07-20T00:00:00",
          "2024-07-21T00:00:00",
          "2024-07-22T00:00:00",
          "2024-07-23T00:00:00",
          "2024-07-24T00:00:00",
          "2024-07-25T00:00:00",
          "2024-07-26T00:00:00",
          "2024-07-27T00:00:00",
          "2024-07-28T00:00:00",
          "2024-07-29T00:00:00",
          "2024-07-30T00:00:00",
          "2024-07-31T00:00:00",
          "2024-08-01T00:00:00",
          "2024-08-02T00:00:00",
          "2024-08-03T00:00:00",
          "2024-08-04T00:00:00",
          "2024-08-05T00:00:00",
          "2024-08-06T00:00:00",
          "2024-08-07T00:00:00",
          "2024-08-08T00:00:00",
          "2024-08-09T00:00:00",
          "2024-08-10T00:00:00",
          "2024-08-11T00:00:00",
          "2024-08-12T00:00:00",
          "2024-08-13T00:00:00",
          "2024-08-14T00:00:00",
          "2024-08-15T00:00:00",
          "2024-08-16T00:00:00",
          "2024-08-17T00:00:00",
          "2024-08-18T00:00:00",
          "2024-08-19T00:00:00",
          "2024-08-20T00:00:00",
          "2024-08-21T00:00:00",
          "2024-08-22T00:00:00",
          "2024-08-23T00:00:00",
          "2024-08-24T00:00:00",
          "2024-08-25T00:00:00",
          "2024-08-26T00:00:00",
          "2024-08-27T00:00:00",
          "2024-08-28T00:00:00",
          "2024-08-29T00:00:00",
          "2024-08-30T00:00:00",
          "2024-08-31T00:00:00",
          "2024-09-01T00:00:00",
          "2024-09-02T00:00:00",
          "2024-09-03T00:00:00",
          "2024-09-04T00:00:00",
          "2024-09-05T00:00:00",
          "2024-09-06T00:00:00",
          "2024-09-07T00:00:00",
          "2024-09-08T00:00:00",
          "2024-09-09T00:00:00",
          "2024-09-10T00:00:00",
          "2024-09-11T00:00:00",
          "2024-09-12T00:00:00",
          "2024-09-13T00:00:00",
          "2024-09-14T00:00:00",
          "2024-09-15T00:00:00",
          "2024-09-16T00:00:00",
          "2024-09-17T00:00:00",
          "2024-09-18T00:00:00",
          "2024-09-19T00:00:00",
          "2024-09-20T00:00:00",
          "2024-09-21T00:00:00",
          "2024-09-22T00:00:00",
          "2024-09-23T00:00:00",
          "2024-09-24T00:00:00",
          "2024-09-25T00:00:00",
          "2024-09-26T00:00:00",
          "2024-09-27T00:00:00",
          "2024-09-28T00:00:00",
          "2024-09-29T00:00:00",
          "2024-09-30T00:00:00",
          "2024-10-01T00:00:00",
          "2024-10-02T00:00:00",
          "2024-10-03T00:00:00",
          "2024-10-04T00:00:00",
          "2024-10-05T00:00:00",
          "2024-10-06T00:00:00",
          "2024-10-07T00:00:00",
          "2024-10-08T00:00:00",
          "2024-10-09T00:00:00",
          "2024-10-10T00:00:00",
          "2024-10-11T00:00:00",
          "2024-10-12T00:00:00",
          "2024-10-13T00:00:00",
          "2024-10-14T00:00:00",
          "2024-10-15T00:00:00",
          "2024-10-16T00:00:00",
          "2024-10-17T00:00:00",
          "2024-10-18T00:00:00",
          "2024-10-19T00:00:00",
          "2024-10-20T00:00:00",
          "2024-10-21T00:00:00",
          "2024-10-22T00:00:00",
          "2024-10-23T00:00:00",
          "2024-10-24T00:00:00",
          "2024-10-25T00:00:00",
          "2024-10-26T00:00:00",
          "2024-10-27T00:00:00",
          "2024-10-28T00:00:00",
          "2024-10-29T00:00:00",
          "2024-10-30T00:00:00",
          "2024-10-31T00:00:00",
          "2024-11-01T00:00:00",
          "2024-11-02T00:00:00",
          "2024-11-03T00:00:00",
          "2024-11-04T00:00:00",
          "2024-11-05T00:00:00",
          "2024-11-06T00:00:00",
          "2024-11-07T00:00:00",
          "2024-11-08T00:00:00",
          "2024-11-09T00:00:00",
          "2024-11-10T00:00:00",
          "2024-11-11T00:00:00",
          "2024-11-12T00:00:00",
          "2024-11-13T00:00:00",
          "2024-11-14T00:00:00",
          "2024-11-15T00:00:00",
          "2024-11-16T00:00:00",
          "2024-11-17T00:00:00",
          "2024-11-18T00:00:00",
          "2024-11-19T00:00:00",
          "2024-11-20T00:00:00",
          "2024-11-21T00:00:00",
          "2024-11-22T00:00:00",
          "2024-11-23T00:00:00",
          "2024-11-24T00:00:00",
          "2024-11-25T00:00:00",
          "2024-11-26T00:00:00",
          "2024-11-27T00:00:00",
          "2024-11-28T00:00:00",
          "2024-11-29T00:00:00",
          "2024-11-30T00:00:00",
          "2024-12-01T00:00:00",
          "2024-12-02T00:00:00",
          "2024-12-03T00:00:00",
          "2024-12-04T00:00:00",
          "2024-12-05T00:00:00",
          "2024-12-06T00:00:00",
          "2024-12-07T00:00:00",
          "2024-12-08T00:00:00",
          "2024-12-09T00:00:00",
          "2024-12-10T00:00:00",
          "2024-12-11T00:00:00",
          "2024-12-12T00:00:00",
          "2024-12-13T00:00:00",
          "2024-12-14T00:00:00",
          "2024-12-15T00:00:00",
          "2024-12-16T00:00:00",
          "2024-12-17T00:00:00",
          "2024-12-18T00:00:00",
          "2024-12-19T00:00:00",
          "2024-12-20T00:00:00",
          "2024-12-21T00:00:00",
          "2024-12-22T00:00:00",
          "2024-12-23T00:00:00",
          "2024-12-24T00:00:00",
          "2024-12-25T00:00:00",
          "2024-12-26T00:00:00",
          "2024-12-27T00:00:00",
          "2024-12-28T00:00:00",
          "2024-12-29T00:00:00",
          "2024-12-30T00:00:00",
          "2024-12-31T00:00:00",
          "2025-01-01T00:00:00",
          "2025-01-02T00:00:00",
          "2025-01-03T00:00:00",
          "2025-01-04T00:00:00",
          "2025-01-05T00:00:00",
          "2025-01-06T00:00:00",
          "2025-01-07T00:00:00",
          "2025-01-08T00:00:00",
          "2025-01-09T00:00:00",
          "2025-01-10T00:00:00",
          "2025-01-11T00:00:00",
          "2025-01-12T00:00:00",
          "2025-01-13T00:00:00",
          "2025-01-14T00:00:00",
          "2025-01-15T00:00:00",
          "2025-01-16T00:00:00",
          "2025-01-17T00:00:00",
          "2025-01-18T00:00:00",
          "2025-01-19T00:00:00",
          "2025-01-20T00:00:00",
          "2025-01-21T00:00:00",
          "2025-01-22T00:00:00",
          "2025-01-23T00:00:00",
          "2025-01-24T00:00:00",
          "2025-01-25T00:00:00",
          "2025-01-26T00:00:00",
          "2025-01-27T00:00:00",
          "2025-01-28T00:00:00",
          "2025-01-29T00:00:00",
          "2025-01-30T00:00:00",
          "2025-01-31T00:00:00",
          "2025-02-01T00:00:00",
          "2025-02-02T00:00:00",
          "2025-02-03T00:00:00",
          "2025-02-04T00:00:00",
          "2025-02-05T00:00:00",
          "2025-02-06T00:00:00",
          "2025-02-07T00:00:00",
          "2025-02-08T00:00:00",
          "2025-02-09T00:00:00",
          "2025-02-10T00:00:00",
          "2025-02-11T00:00:00",
          "2025-02-12T00:00:00",
          "2025-02-13T00:00:00",
          "2025-02-14T00:00:00",
          "2025-02-15T00:00:00",
          "2025-02-16T00:00:00",
          "2025-02-17T00:00:00",
          "2025-02-18T00:00:00",
          "2025-02-19T00:00:00",
          "2025-02-20T00:00:00",
          "2025-02-21T00:00:00",
          "2025-02-22T00:00:00",
          "2025-02-23T00:00:00",
          "2025-02-24T00:00:00",
          "2025-02-25T00:00:00",
          "2025-02-26T00:00:00",
          "2025-02-27T00:00:00",
          "2025-02-28T00:00:00",
          "2025-03-01T00:00:00",
          "2025-03-02T00:00:00",
          "2025-03-03T00:00:00",
          "2025-03-04T00:00:00",
          "2025-03-05T00:00:00",
          "2025-03-06T00:00:00",
          "2025-03-07T00:00:00",
          "2025-03-08T00:00:00",
          "2025-03-09T00:00:00",
          "2025-03-10T00:00:00",
          "2025-03-11T00:00:00",
          "2025-03-12T00:00:00",
          "2025-03-13T00:00:00",
          "2025-03-14T00:00:00",
          "2025-03-15T00:00:00",
          "2025-03-16T00:00:00",
          "2025-03-17T00:00:00",
          "2025-03-18T00:00:00",
          "2025-03-19T00:00:00",
          "2025-03-20T00:00:00",
          "2025-03-21T00:00:00",
          "2025-03-22T00:00:00",
          "2025-03-23T00:00:00",
          "2025-03-24T00:00:00",
          "2025-03-25T00:00:00",
          "2025-03-26T00:00:00",
          "2025-03-27T00:00:00",
          "2025-03-28T00:00:00",
          "2025-03-29T00:00:00",
          "2025-03-30T00:00:00",
          "2025-03-31T00:00:00",
          "2025-04-01T00:00:00",
          "2025-04-02T00:00:00",
          "2025-04-03T00:00:00",
          "2025-04-04T00:00:00",
          "2025-04-05T00:00:00",
          "2025-04-06T00:00:00",
          "2025-04-07T00:00:00",
          "2025-04-08T00:00:00",
          "2025-04-09T00:00:00",
          "2025-04-10T00:00:00",
          "2025-04-11T00:00:00",
          "2025-04-12T00:00:00",
          "2025-04-13T00:00:00",
          "2025-04-14T00:00:00",
          "2025-04-15T00:00:00",
          "2025-04-16T00:00:00",
          "2025-04-17T00:00:00",
          "2025-04-18T00:00:00",
          "2025-04-19T00:00:00",
          "2025-04-20T00:00:00",
          "2025-04-21T00:00:00",
          "2025-04-22T00:00:00",
          "2025-04-23T00:00:00",
          "2025-04-24T00:00:00",
          "2025-04-25T00:00:00",
          "2025-04-26T00:00:00",
          "2025-04-27T00:00:00",
          "2025-04-28T00:00:00",
          "2025-04-29T00:00:00",
          "2025-04-30T00:00:00",
          "2025-05-01T00:00:00",
          "2025-05-02T00:00:00",
          "2025-05-03T00:00:00",
          "2025-05-04T00:00:00",
          "2025-05-05T00:00:00",
          "2025-05-06T00:00:00",
          "2025-05-07T00:00:00",
          "2025-05-08T00:00:00",
          "2025-05-09T00:00:00",
          "2025-05-10T00:00:00",
          "2025-05-11T00:00:00",
          "2025-05-12T00:00:00",
          "2025-05-13T00:00:00",
          "2025-05-14T00:00:00",
          "2025-05-15T00:00:00",
          "2025-05-16T00:00:00",
          "2025-05-17T00:00:00",
          "2025-05-18T00:00:00",
          "2025-05-19T00:00:00",
          "2025-05-20T00:00:00",
          "2025-05-21T00:00:00",
          "2025-05-22T00:00:00",
          "2025-05-23T00:00:00",
          "2025-05-24T00:00:00",
          "2025-05-25T00:00:00",
          "2025-05-26T00:00:00",
          "2025-05-27T00:00:00",
          "2025-05-28T00:00:00",
          "2025-05-29T00:00:00",
          "2025-05-30T00:00:00",
          "2025-05-31T00:00:00",
          "2025-06-01T00:00:00",
          "2025-06-02T00:00:00",
          "2025-06-03T00:00:00",
          "2025-06-04T00:00:00",
          "2025-06-05T00:00:00",
          "2025-06-06T00:00:00",
          "2025-06-07T00:00:00",
          "2025-06-08T00:00:00",
          "2025-06-09T00:00:00",
          "2025-06-10T00:00:00",
          "2025-06-11T00:00:00",
          "2025-06-12T00:00:00",
          "2025-06-13T00:00:00",
          "2025-06-14T00:00:00",
          "2025-06-15T00:00:00",
          "2025-06-16T00:00:00",
          "2025-06-17T00:00:00",
          "2025-06-18T00:00:00",
          "2025-06-19T00:00:00",
          "2025-06-20T00:00:00",
          "2025-06-21T00:00:00",
          "2025-06-22T00:00:00",
          "2025-06-23T00:00:00",
          "2025-06-24T00:00:00",
          "2025-06-25T00:00:00",
          "2025-06-26T00:00:00",
          "2025-06-27T00:00:00",
          "2025-06-28T00:00:00",
          "2025-06-29T00:00:00",
          "2025-06-30T00:00:00",
          "2025-07-01T00:00:00",
          "2025-07-02T00:00:00",
          "2025-07-03T00:00:00",
          "2025-07-04T00:00:00",
          "2025-07-05T00:00:00",
          "2025-07-06T00:00:00",
          "2025-07-07T00:00:00",
          "2025-07-08T00:00:00",
          "2025-07-09T00:00:00",
          "2025-07-10T00:00:00",
          "2025-07-11T00:00:00",
          "2025-07-12T00:00:00",
          "2025-07-13T00:00:00",
          "2025-07-14T00:00:00",
          "2025-07-15T00:00:00",
          "2025-07-16T00:00:00",
          "2025-07-17T00:00:00",
          "2025-07-18T00:00:00",
          "2025-07-19T00:00:00",
          "2025-07-20T00:00:00",
          "2025-07-21T00:00:00",
          "2025-07-22T00:00:00",
          "2025-07-23T00:00:00",
          "2025-07-24T00:00:00",
          "2025-07-25T00:00:00",
          "2025-07-26T00:00:00",
          "2025-07-27T00:00:00",
          "2025-07-28T00:00:00",
          "2025-07-29T00:00:00",
          "2025-07-30T00:00:00",
          "2025-07-31T00:00:00",
          "2025-08-01T00:00:00",
          "2025-08-02T00:00:00",
          "2025-08-03T00:00:00",
          "2025-08-04T00:00:00",
          "2025-08-05T00:00:00",
          "2025-08-06T00:00:00",
          "2025-08-07T00:00:00",
          "2025-08-08T00:00:00",
          "2025-08-09T00:00:00",
          "2025-08-10T00:00:00",
          "2025-08-11T00:00:00",
          "2025-08-12T00:00:00",
          "2025-08-13T00:00:00",
          "2025-08-14T00:00:00",
          "2025-08-15T00:00:00",
          "2025-08-16T00:00:00",
          "2025-08-17T00:00:00",
          "2025-08-18T00:00:00",
          "2025-08-19T00:00:00",
          "2025-08-20T00:00:00",
          "2025-08-21T00:00:00",
          "2025-08-22T00:00:00"
         ],
         "y": {
          "bdata": "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",
          "dtype": "f8"
         }
        },
        {
         "fill": "tonexty",
         "fillcolor": "rgba(144,238,144,0.2)",
         "line": {
          "color": "lightgreen",
          "dash": "dot"
         },
         "name": "Lower Bound",
         "showlegend": true,
         "type": "scatter",
         "x": [
          "2024-01-01T00:00:00",
          "2024-01-02T00:00:00",
          "2024-01-03T00:00:00",
          "2024-01-04T00:00:00",
          "2024-01-05T00:00:00",
          "2024-01-06T00:00:00",
          "2024-01-07T00:00:00",
          "2024-01-08T00:00:00",
          "2024-01-09T00:00:00",
          "2024-01-10T00:00:00",
          "2024-01-11T00:00:00",
          "2024-01-12T00:00:00",
          "2024-01-13T00:00:00",
          "2024-01-14T00:00:00",
          "2024-01-15T00:00:00",
          "2024-01-16T00:00:00",
          "2024-01-17T00:00:00",
          "2024-01-18T00:00:00",
          "2024-01-19T00:00:00",
          "2024-01-20T00:00:00",
          "2024-01-21T00:00:00",
          "2024-01-22T00:00:00",
          "2024-01-23T00:00:00",
          "2024-01-24T00:00:00",
          "2024-01-25T00:00:00",
          "2024-01-26T00:00:00",
          "2024-01-27T00:00:00",
          "2024-01-28T00:00:00",
          "2024-01-29T00:00:00",
          "2024-01-30T00:00:00",
          "2024-01-31T00:00:00",
          "2024-02-01T00:00:00",
          "2024-02-02T00:00:00",
          "2024-02-03T00:00:00",
          "2024-02-04T00:00:00",
          "2024-02-05T00:00:00",
          "2024-02-06T00:00:00",
          "2024-02-07T00:00:00",
          "2024-02-08T00:00:00",
          "2024-02-09T00:00:00",
          "2024-02-10T00:00:00",
          "2024-02-11T00:00:00",
          "2024-02-12T00:00:00",
          "2024-02-13T00:00:00",
          "2024-02-14T00:00:00",
          "2024-02-15T00:00:00",
          "2024-02-16T00:00:00",
          "2024-02-17T00:00:00",
          "2024-02-18T00:00:00",
          "2024-02-19T00:00:00",
          "2024-02-20T00:00:00",
          "2024-02-21T00:00:00",
          "2024-02-22T00:00:00",
          "2024-02-23T00:00:00",
          "2024-02-24T00:00:00",
          "2024-02-25T00:00:00",
          "2024-02-26T00:00:00",
          "2024-02-27T00:00:00",
          "2024-02-28T00:00:00",
          "2024-02-29T00:00:00",
          "2024-03-01T00:00:00",
          "2024-03-02T00:00:00",
          "2024-03-03T00:00:00",
          "2024-03-04T00:00:00",
          "2024-03-05T00:00:00",
          "2024-03-06T00:00:00",
          "2024-03-07T00:00:00",
          "2024-03-08T00:00:00",
          "2024-03-09T00:00:00",
          "2024-03-10T00:00:00",
          "2024-03-11T00:00:00",
          "2024-03-12T00:00:00",
          "2024-03-13T00:00:00",
          "2024-03-14T00:00:00",
          "2024-03-15T00:00:00",
          "2024-03-16T00:00:00",
          "2024-03-17T00:00:00",
          "2024-03-18T00:00:00",
          "2024-03-19T00:00:00",
          "2024-03-20T00:00:00",
          "2024-03-21T00:00:00",
          "2024-03-22T00:00:00",
          "2024-03-23T00:00:00",
          "2024-03-24T00:00:00",
          "2024-03-25T00:00:00",
          "2024-03-26T00:00:00",
          "2024-03-27T00:00:00",
          "2024-03-28T00:00:00",
          "2024-03-29T00:00:00",
          "2024-03-30T00:00:00",
          "2024-03-31T00:00:00",
          "2024-04-01T00:00:00",
          "2024-04-02T00:00:00",
          "2024-04-03T00:00:00",
          "2024-04-04T00:00:00",
          "2024-04-05T00:00:00",
          "2024-04-06T00:00:00",
          "2024-04-07T00:00:00",
          "2024-04-08T00:00:00",
          "2024-04-09T00:00:00",
          "2024-04-10T00:00:00",
          "2024-04-11T00:00:00",
          "2024-04-12T00:00:00",
          "2024-04-13T00:00:00",
          "2024-04-14T00:00:00",
          "2024-04-15T00:00:00",
          "2024-04-16T00:00:00",
          "2024-04-17T00:00:00",
          "2024-04-18T00:00:00",
          "2024-04-19T00:00:00",
          "2024-04-20T00:00:00",
          "2024-04-21T00:00:00",
          "2024-04-22T00:00:00",
          "2024-04-23T00:00:00",
          "2024-04-24T00:00:00",
          "2024-04-25T00:00:00",
          "2024-04-26T00:00:00",
          "2024-04-27T00:00:00",
          "2024-04-28T00:00:00",
          "2024-04-29T00:00:00",
          "2024-04-30T00:00:00",
          "2024-05-01T00:00:00",
          "2024-05-02T00:00:00",
          "2024-05-03T00:00:00",
          "2024-05-04T00:00:00",
          "2024-05-05T00:00:00",
          "2024-05-06T00:00:00",
          "2024-05-07T00:00:00",
          "2024-05-08T00:00:00",
          "2024-05-09T00:00:00",
          "2024-05-10T00:00:00",
          "2024-05-11T00:00:00",
          "2024-05-12T00:00:00",
          "2024-05-13T00:00:00",
          "2024-05-14T00:00:00",
          "2024-05-15T00:00:00",
          "2024-05-16T00:00:00",
          "2024-05-17T00:00:00",
          "2024-05-18T00:00:00",
          "2024-05-19T00:00:00",
          "2024-05-20T00:00:00",
          "2024-05-21T00:00:00",
          "2024-05-22T00:00:00",
          "2024-05-23T00:00:00",
          "2024-05-24T00:00:00",
          "2024-05-25T00:00:00",
          "2024-05-26T00:00:00",
          "2024-05-27T00:00:00",
          "2024-05-28T00:00:00",
          "2024-05-29T00:00:00",
          "2024-05-30T00:00:00",
          "2024-05-31T00:00:00",
          "2024-06-01T00:00:00",
          "2024-06-02T00:00:00",
          "2024-06-03T00:00:00",
          "2024-06-04T00:00:00",
          "2024-06-05T00:00:00",
          "2024-06-06T00:00:00",
          "2024-06-07T00:00:00",
          "2024-06-08T00:00:00",
          "2024-06-09T00:00:00",
          "2024-06-10T00:00:00",
          "2024-06-11T00:00:00",
          "2024-06-12T00:00:00",
          "2024-06-13T00:00:00",
          "2024-06-14T00:00:00",
          "2024-06-15T00:00:00",
          "2024-06-16T00:00:00",
          "2024-06-17T00:00:00",
          "2024-06-18T00:00:00",
          "2024-06-19T00:00:00",
          "2024-06-20T00:00:00",
          "2024-06-21T00:00:00",
          "2024-06-22T00:00:00",
          "2024-06-23T00:00:00",
          "2024-06-24T00:00:00",
          "2024-06-25T00:00:00",
          "2024-06-26T00:00:00",
          "2024-06-27T00:00:00",
          "2024-06-28T00:00:00",
          "2024-06-29T00:00:00",
          "2024-06-30T00:00:00",
          "2024-07-01T00:00:00",
          "2024-07-02T00:00:00",
          "2024-07-03T00:00:00",
          "2024-07-04T00:00:00",
          "2024-07-05T00:00:00",
          "2024-07-06T00:00:00",
          "2024-07-07T00:00:00",
          "2024-07-08T00:00:00",
          "2024-07-09T00:00:00",
          "2024-07-10T00:00:00",
          "2024-07-11T00:00:00",
          "2024-07-12T00:00:00",
          "2024-07-13T00:00:00",
          "2024-07-14T00:00:00",
          "2024-07-15T00:00:00",
          "2024-07-16T00:00:00",
          "2024-07-17T00:00:00",
          "2024-07-18T00:00:00",
          "2024-07-19T00:00:00",
          "2024-07-20T00:00:00",
          "2024-07-21T00:00:00",
          "2024-07-22T00:00:00",
          "2024-07-23T00:00:00",
          "2024-07-24T00:00:00",
          "2024-07-25T00:00:00",
          "2024-07-26T00:00:00",
          "2024-07-27T00:00:00",
          "2024-07-28T00:00:00",
          "2024-07-29T00:00:00",
          "2024-07-30T00:00:00",
          "2024-07-31T00:00:00",
          "2024-08-01T00:00:00",
          "2024-08-02T00:00:00",
          "2024-08-03T00:00:00",
          "2024-08-04T00:00:00",
          "2024-08-05T00:00:00",
          "2024-08-06T00:00:00",
          "2024-08-07T00:00:00",
          "2024-08-08T00:00:00",
          "2024-08-09T00:00:00",
          "2024-08-10T00:00:00",
          "2024-08-11T00:00:00",
          "2024-08-12T00:00:00",
          "2024-08-13T00:00:00",
          "2024-08-14T00:00:00",
          "2024-08-15T00:00:00",
          "2024-08-16T00:00:00",
          "2024-08-17T00:00:00",
          "2024-08-18T00:00:00",
          "2024-08-19T00:00:00",
          "2024-08-20T00:00:00",
          "2024-08-21T00:00:00",
          "2024-08-22T00:00:00",
          "2024-08-23T00:00:00",
          "2024-08-24T00:00:00",
          "2024-08-25T00:00:00",
          "2024-08-26T00:00:00",
          "2024-08-27T00:00:00",
          "2024-08-28T00:00:00",
          "2024-08-29T00:00:00",
          "2024-08-30T00:00:00",
          "2024-08-31T00:00:00",
          "2024-09-01T00:00:00",
          "2024-09-02T00:00:00",
          "2024-09-03T00:00:00",
          "2024-09-04T00:00:00",
          "2024-09-05T00:00:00",
          "2024-09-06T00:00:00",
          "2024-09-07T00:00:00",
          "2024-09-08T00:00:00",
          "2024-09-09T00:00:00",
          "2024-09-10T00:00:00",
          "2024-09-11T00:00:00",
          "2024-09-12T00:00:00",
          "2024-09-13T00:00:00",
          "2024-09-14T00:00:00",
          "2024-09-15T00:00:00",
          "2024-09-16T00:00:00",
          "2024-09-17T00:00:00",
          "2024-09-18T00:00:00",
          "2024-09-19T00:00:00",
          "2024-09-20T00:00:00",
          "2024-09-21T00:00:00",
          "2024-09-22T00:00:00",
          "2024-09-23T00:00:00",
          "2024-09-24T00:00:00",
          "2024-09-25T00:00:00",
          "2024-09-26T00:00:00",
          "2024-09-27T00:00:00",
          "2024-09-28T00:00:00",
          "2024-09-29T00:00:00",
          "2024-09-30T00:00:00",
          "2024-10-01T00:00:00",
          "2024-10-02T00:00:00",
          "2024-10-03T00:00:00",
          "2024-10-04T00:00:00",
          "2024-10-05T00:00:00",
          "2024-10-06T00:00:00",
          "2024-10-07T00:00:00",
          "2024-10-08T00:00:00",
          "2024-10-09T00:00:00",
          "2024-10-10T00:00:00",
          "2024-10-11T00:00:00",
          "2024-10-12T00:00:00",
          "2024-10-13T00:00:00",
          "2024-10-14T00:00:00",
          "2024-10-15T00:00:00",
          "2024-10-16T00:00:00",
          "2024-10-17T00:00:00",
          "2024-10-18T00:00:00",
          "2024-10-19T00:00:00",
          "2024-10-20T00:00:00",
          "2024-10-21T00:00:00",
          "2024-10-22T00:00:00",
          "2024-10-23T00:00:00",
          "2024-10-24T00:00:00",
          "2024-10-25T00:00:00",
          "2024-10-26T00:00:00",
          "2024-10-27T00:00:00",
          "2024-10-28T00:00:00",
          "2024-10-29T00:00:00",
          "2024-10-30T00:00:00",
          "2024-10-31T00:00:00",
          "2024-11-01T00:00:00",
          "2024-11-02T00:00:00",
          "2024-11-03T00:00:00",
          "2024-11-04T00:00:00",
          "2024-11-05T00:00:00",
          "2024-11-06T00:00:00",
          "2024-11-07T00:00:00",
          "2024-11-08T00:00:00",
          "2024-11-09T00:00:00",
          "2024-11-10T00:00:00",
          "2024-11-11T00:00:00",
          "2024-11-12T00:00:00",
          "2024-11-13T00:00:00",
          "2024-11-14T00:00:00",
          "2024-11-15T00:00:00",
          "2024-11-16T00:00:00",
          "2024-11-17T00:00:00",
          "2024-11-18T00:00:00",
          "2024-11-19T00:00:00",
          "2024-11-20T00:00:00",
          "2024-11-21T00:00:00",
          "2024-11-22T00:00:00",
          "2024-11-23T00:00:00",
          "2024-11-24T00:00:00",
          "2024-11-25T00:00:00",
          "2024-11-26T00:00:00",
          "2024-11-27T00:00:00",
          "2024-11-28T00:00:00",
          "2024-11-29T00:00:00",
          "2024-11-30T00:00:00",
          "2024-12-01T00:00:00",
          "2024-12-02T00:00:00",
          "2024-12-03T00:00:00",
          "2024-12-04T00:00:00",
          "2024-12-05T00:00:00",
          "2024-12-06T00:00:00",
          "2024-12-07T00:00:00",
          "2024-12-08T00:00:00",
          "2024-12-09T00:00:00",
          "2024-12-10T00:00:00",
          "2024-12-11T00:00:00",
          "2024-12-12T00:00:00",
          "2024-12-13T00:00:00",
          "2024-12-14T00:00:00",
          "2024-12-15T00:00:00",
          "2024-12-16T00:00:00",
          "2024-12-17T00:00:00",
          "2024-12-18T00:00:00",
          "2024-12-19T00:00:00",
          "2024-12-20T00:00:00",
          "2024-12-21T00:00:00",
          "2024-12-22T00:00:00",
          "2024-12-23T00:00:00",
          "2024-12-24T00:00:00",
          "2024-12-25T00:00:00",
          "2024-12-26T00:00:00",
          "2024-12-27T00:00:00",
          "2024-12-28T00:00:00",
          "2024-12-29T00:00:00",
          "2024-12-30T00:00:00",
          "2024-12-31T00:00:00",
          "2025-01-01T00:00:00",
          "2025-01-02T00:00:00",
          "2025-01-03T00:00:00",
          "2025-01-04T00:00:00",
          "2025-01-05T00:00:00",
          "2025-01-06T00:00:00",
          "2025-01-07T00:00:00",
          "2025-01-08T00:00:00",
          "2025-01-09T00:00:00",
          "2025-01-10T00:00:00",
          "2025-01-11T00:00:00",
          "2025-01-12T00:00:00",
          "2025-01-13T00:00:00",
          "2025-01-14T00:00:00",
          "2025-01-15T00:00:00",
          "2025-01-16T00:00:00",
          "2025-01-17T00:00:00",
          "2025-01-18T00:00:00",
          "2025-01-19T00:00:00",
          "2025-01-20T00:00:00",
          "2025-01-21T00:00:00",
          "2025-01-22T00:00:00",
          "2025-01-23T00:00:00",
          "2025-01-24T00:00:00",
          "2025-01-25T00:00:00",
          "2025-01-26T00:00:00",
          "2025-01-27T00:00:00",
          "2025-01-28T00:00:00",
          "2025-01-29T00:00:00",
          "2025-01-30T00:00:00",
          "2025-01-31T00:00:00",
          "2025-02-01T00:00:00",
          "2025-02-02T00:00:00",
          "2025-02-03T00:00:00",
          "2025-02-04T00:00:00",
          "2025-02-05T00:00:00",
          "2025-02-06T00:00:00",
          "2025-02-07T00:00:00",
          "2025-02-08T00:00:00",
          "2025-02-09T00:00:00",
          "2025-02-10T00:00:00",
          "2025-02-11T00:00:00",
          "2025-02-12T00:00:00",
          "2025-02-13T00:00:00",
          "2025-02-14T00:00:00",
          "2025-02-15T00:00:00",
          "2025-02-16T00:00:00",
          "2025-02-17T00:00:00",
          "2025-02-18T00:00:00",
          "2025-02-19T00:00:00",
          "2025-02-20T00:00:00",
          "2025-02-21T00:00:00",
          "2025-02-22T00:00:00",
          "2025-02-23T00:00:00",
          "2025-02-24T00:00:00",
          "2025-02-25T00:00:00",
          "2025-02-26T00:00:00",
          "2025-02-27T00:00:00",
          "2025-02-28T00:00:00",
          "2025-03-01T00:00:00",
          "2025-03-02T00:00:00",
          "2025-03-03T00:00:00",
          "2025-03-04T00:00:00",
          "2025-03-05T00:00:00",
          "2025-03-06T00:00:00",
          "2025-03-07T00:00:00",
          "2025-03-08T00:00:00",
          "2025-03-09T00:00:00",
          "2025-03-10T00:00:00",
          "2025-03-11T00:00:00",
          "2025-03-12T00:00:00",
          "2025-03-13T00:00:00",
          "2025-03-14T00:00:00",
          "2025-03-15T00:00:00",
          "2025-03-16T00:00:00",
          "2025-03-17T00:00:00",
          "2025-03-18T00:00:00",
          "2025-03-19T00:00:00",
          "2025-03-20T00:00:00",
          "2025-03-21T00:00:00",
          "2025-03-22T00:00:00",
          "2025-03-23T00:00:00",
          "2025-03-24T00:00:00",
          "2025-03-25T00:00:00",
          "2025-03-26T00:00:00",
          "2025-03-27T00:00:00",
          "2025-03-28T00:00:00",
          "2025-03-29T00:00:00",
          "2025-03-30T00:00:00",
          "2025-03-31T00:00:00",
          "2025-04-01T00:00:00",
          "2025-04-02T00:00:00",
          "2025-04-03T00:00:00",
          "2025-04-04T00:00:00",
          "2025-04-05T00:00:00",
          "2025-04-06T00:00:00",
          "2025-04-07T00:00:00",
          "2025-04-08T00:00:00",
          "2025-04-09T00:00:00",
          "2025-04-10T00:00:00",
          "2025-04-11T00:00:00",
          "2025-04-12T00:00:00",
          "2025-04-13T00:00:00",
          "2025-04-14T00:00:00",
          "2025-04-15T00:00:00",
          "2025-04-16T00:00:00",
          "2025-04-17T00:00:00",
          "2025-04-18T00:00:00",
          "2025-04-19T00:00:00",
          "2025-04-20T00:00:00",
          "2025-04-21T00:00:00",
          "2025-04-22T00:00:00",
          "2025-04-23T00:00:00",
          "2025-04-24T00:00:00",
          "2025-04-25T00:00:00",
          "2025-04-26T00:00:00",
          "2025-04-27T00:00:00",
          "2025-04-28T00:00:00",
          "2025-04-29T00:00:00",
          "2025-04-30T00:00:00",
          "2025-05-01T00:00:00",
          "2025-05-02T00:00:00",
          "2025-05-03T00:00:00",
          "2025-05-04T00:00:00",
          "2025-05-05T00:00:00",
          "2025-05-06T00:00:00",
          "2025-05-07T00:00:00",
          "2025-05-08T00:00:00",
          "2025-05-09T00:00:00",
          "2025-05-10T00:00:00",
          "2025-05-11T00:00:00",
          "2025-05-12T00:00:00",
          "2025-05-13T00:00:00",
          "2025-05-14T00:00:00",
          "2025-05-15T00:00:00",
          "2025-05-16T00:00:00",
          "2025-05-17T00:00:00",
          "2025-05-18T00:00:00",
          "2025-05-19T00:00:00",
          "2025-05-20T00:00:00",
          "2025-05-21T00:00:00",
          "2025-05-22T00:00:00",
          "2025-05-23T00:00:00",
          "2025-05-24T00:00:00",
          "2025-05-25T00:00:00",
          "2025-05-26T00:00:00",
          "2025-05-27T00:00:00",
          "2025-05-28T00:00:00",
          "2025-05-29T00:00:00",
          "2025-05-30T00:00:00",
          "2025-05-31T00:00:00",
          "2025-06-01T00:00:00",
          "2025-06-02T00:00:00",
          "2025-06-03T00:00:00",
          "2025-06-04T00:00:00",
          "2025-06-05T00:00:00",
          "2025-06-06T00:00:00",
          "2025-06-07T00:00:00",
          "2025-06-08T00:00:00",
          "2025-06-09T00:00:00",
          "2025-06-10T00:00:00",
          "2025-06-11T00:00:00",
          "2025-06-12T00:00:00",
          "2025-06-13T00:00:00",
          "2025-06-14T00:00:00",
          "2025-06-15T00:00:00",
          "2025-06-16T00:00:00",
          "2025-06-17T00:00:00",
          "2025-06-18T00:00:00",
          "2025-06-19T00:00:00",
          "2025-06-20T00:00:00",
          "2025-06-21T00:00:00",
          "2025-06-22T00:00:00",
          "2025-06-23T00:00:00",
          "2025-06-24T00:00:00",
          "2025-06-25T00:00:00",
          "2025-06-26T00:00:00",
          "2025-06-27T00:00:00",
          "2025-06-28T00:00:00",
          "2025-06-29T00:00:00",
          "2025-06-30T00:00:00",
          "2025-07-01T00:00:00",
          "2025-07-02T00:00:00",
          "2025-07-03T00:00:00",
          "2025-07-04T00:00:00",
          "2025-07-05T00:00:00",
          "2025-07-06T00:00:00",
          "2025-07-07T00:00:00",
          "2025-07-08T00:00:00",
          "2025-07-09T00:00:00",
          "2025-07-10T00:00:00",
          "2025-07-11T00:00:00",
          "2025-07-12T00:00:00",
          "2025-07-13T00:00:00",
          "2025-07-14T00:00:00",
          "2025-07-15T00:00:00",
          "2025-07-16T00:00:00",
          "2025-07-17T00:00:00",
          "2025-07-18T00:00:00",
          "2025-07-19T00:00:00",
          "2025-07-20T00:00:00",
          "2025-07-21T00:00:00",
          "2025-07-22T00:00:00",
          "2025-07-23T00:00:00",
          "2025-07-24T00:00:00",
          "2025-07-25T00:00:00",
          "2025-07-26T00:00:00",
          "2025-07-27T00:00:00",
          "2025-07-28T00:00:00",
          "2025-07-29T00:00:00",
          "2025-07-30T00:00:00",
          "2025-07-31T00:00:00",
          "2025-08-01T00:00:00",
          "2025-08-02T00:00:00",
          "2025-08-03T00:00:00",
          "2025-08-04T00:00:00",
          "2025-08-05T00:00:00",
          "2025-08-06T00:00:00",
          "2025-08-07T00:00:00",
          "2025-08-08T00:00:00",
          "2025-08-09T00:00:00",
          "2025-08-10T00:00:00",
          "2025-08-11T00:00:00",
          "2025-08-12T00:00:00",
          "2025-08-13T00:00:00",
          "2025-08-14T00:00:00",
          "2025-08-15T00:00:00",
          "2025-08-16T00:00:00",
          "2025-08-17T00:00:00",
          "2025-08-18T00:00:00",
          "2025-08-19T00:00:00",
          "2025-08-20T00:00:00",
          "2025-08-21T00:00:00",
          "2025-08-22T00:00:00"
         ],
         "y": {
          "bdata": "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",
          "dtype": "f8"
         }
        }
       ],
       "layout": {
        "template": {
         "data": {
          "bar": [
           {
            "error_x": {
             "color": "#2a3f5f"
            },
            "error_y": {
             "color": "#2a3f5f"
            },
            "marker": {
             "line": {
              "color": "white",
              "width": 0.5
             },
             "pattern": {
              "fillmode": "overlay",
              "size": 10,
              "solidity": 0.2
             }
            },
            "type": "bar"
           }
          ],
          "barpolar": [
           {
            "marker": {
             "line": {
              "color": "white",
              "width": 0.5
             },
             "pattern": {
              "fillmode": "overlay",
              "size": 10,
              "solidity": 0.2
             }
            },
            "type": "barpolar"
           }
          ],
          "carpet": [
           {
            "aaxis": {
             "endlinecolor": "#2a3f5f",
             "gridcolor": "#C8D4E3",
             "linecolor": "#C8D4E3",
             "minorgridcolor": "#C8D4E3",
             "startlinecolor": "#2a3f5f"
            },
            "baxis": {
             "endlinecolor": "#2a3f5f",
             "gridcolor": "#C8D4E3",
             "linecolor": "#C8D4E3",
             "minorgridcolor": "#C8D4E3",
             "startlinecolor": "#2a3f5f"
            },
            "type": "carpet"
           }
          ],
          "choropleth": [
           {
            "colorbar": {
             "outlinewidth": 0,
             "ticks": ""
            },
            "type": "choropleth"
           }
          ],
          "contour": [
           {
            "colorbar": {
             "outlinewidth": 0,
             "ticks": ""
            },
            "colorscale": [
             [
              0,
              "#0d0887"
             ],
             [
              0.1111111111111111,
              "#46039f"
             ],
             [
              0.2222222222222222,
              "#7201a8"
             ],
             [
              0.3333333333333333,
              "#9c179e"
             ],
             [
              0.4444444444444444,
              "#bd3786"
             ],
             [
              0.5555555555555556,
              "#d8576b"
             ],
             [
              0.6666666666666666,
              "#ed7953"
             ],
             [
              0.7777777777777778,
              "#fb9f3a"
             ],
             [
              0.8888888888888888,
              "#fdca26"
             ],
             [
              1,
              "#f0f921"
             ]
            ],
            "type": "contour"
           }
          ],
          "contourcarpet": [
           {
            "colorbar": {
             "outlinewidth": 0,
             "ticks": ""
            },
            "type": "contourcarpet"
           }
          ],
          "heatmap": [
           {
            "colorbar": {
             "outlinewidth": 0,
             "ticks": ""
            },
            "colorscale": [
             [
              0,
              "#0d0887"
             ],
             [
              0.1111111111111111,
              "#46039f"
             ],
             [
              0.2222222222222222,
              "#7201a8"
             ],
             [
              0.3333333333333333,
              "#9c179e"
             ],
             [
              0.4444444444444444,
              "#bd3786"
             ],
             [
              0.5555555555555556,
              "#d8576b"
             ],
             [
              0.6666666666666666,
              "#ed7953"
             ],
             [
              0.7777777777777778,
              "#fb9f3a"
             ],
             [
              0.8888888888888888,
              "#fdca26"
             ],
             [
              1,
              "#f0f921"
             ]
            ],
            "type": "heatmap"
           }
          ],
          "histogram": [
           {
            "marker": {
             "pattern": {
              "fillmode": "overlay",
              "size": 10,
              "solidity": 0.2
             }
            },
            "type": "histogram"
           }
          ],
          "histogram2d": [
           {
            "colorbar": {
             "outlinewidth": 0,
             "ticks": ""
            },
            "colorscale": [
             [
              0,
              "#0d0887"
             ],
             [
              0.1111111111111111,
              "#46039f"
             ],
             [
              0.2222222222222222,
              "#7201a8"
             ],
             [
              0.3333333333333333,
              "#9c179e"
             ],
             [
              0.4444444444444444,
              "#bd3786"
             ],
             [
              0.5555555555555556,
              "#d8576b"
             ],
             [
              0.6666666666666666,
              "#ed7953"
             ],
             [
              0.7777777777777778,
              "#fb9f3a"
             ],
             [
              0.8888888888888888,
              "#fdca26"
             ],
             [
              1,
              "#f0f921"
             ]
            ],
            "type": "histogram2d"
           }
          ],
          "histogram2dcontour": [
           {
            "colorbar": {
             "outlinewidth": 0,
             "ticks": ""
            },
            "colorscale": [
             [
              0,
              "#0d0887"
             ],
             [
              0.1111111111111111,
              "#46039f"
             ],
             [
              0.2222222222222222,
              "#7201a8"
             ],
             [
              0.3333333333333333,
              "#9c179e"
             ],
             [
              0.4444444444444444,
              "#bd3786"
             ],
             [
              0.5555555555555556,
              "#d8576b"
             ],
             [
              0.6666666666666666,
              "#ed7953"
             ],
             [
              0.7777777777777778,
              "#fb9f3a"
             ],
             [
              0.8888888888888888,
              "#fdca26"
             ],
             [
              1,
              "#f0f921"
             ]
            ],
            "type": "histogram2dcontour"
           }
          ],
          "mesh3d": [
           {
            "colorbar": {
             "outlinewidth": 0,
             "ticks": ""
            },
            "type": "mesh3d"
           }
          ],
          "parcoords": [
           {
            "line": {
             "colorbar": {
              "outlinewidth": 0,
              "ticks": ""
             }
            },
            "type": "parcoords"
           }
          ],
          "pie": [
           {
            "automargin": true,
            "type": "pie"
           }
          ],
          "scatter": [
           {
            "fillpattern": {
             "fillmode": "overlay",
             "size": 10,
             "solidity": 0.2
            },
            "type": "scatter"
           }
          ],
          "scatter3d": [
           {
            "line": {
             "colorbar": {
              "outlinewidth": 0,
              "ticks": ""
             }
            },
            "marker": {
             "colorbar": {
              "outlinewidth": 0,
              "ticks": ""
             }
            },
            "type": "scatter3d"
           }
          ],
          "scattercarpet": [
           {
            "marker": {
             "colorbar": {
              "outlinewidth": 0,
              "ticks": ""
             }
            },
            "type": "scattercarpet"
           }
          ],
          "scattergeo": [
           {
            "marker": {
             "colorbar": {
              "outlinewidth": 0,
              "ticks": ""
             }
            },
            "type": "scattergeo"
           }
          ],
          "scattergl": [
           {
            "marker": {
             "colorbar": {
              "outlinewidth": 0,
              "ticks": ""
             }
            },
            "type": "scattergl"
           }
          ],
          "scattermap": [
           {
            "marker": {
             "colorbar": {
              "outlinewidth": 0,
              "ticks": ""
             }
            },
            "type": "scattermap"
           }
          ],
          "scattermapbox": [
           {
            "marker": {
             "colorbar": {
              "outlinewidth": 0,
              "ticks": ""
             }
            },
            "type": "scattermapbox"
           }
          ],
          "scatterpolar": [
           {
            "marker": {
             "colorbar": {
              "outlinewidth": 0,
              "ticks": ""
             }
            },
            "type": "scatterpolar"
           }
          ],
          "scatterpolargl": [
           {
            "marker": {
             "colorbar": {
              "outlinewidth": 0,
              "ticks": ""
             }
            },
            "type": "scatterpolargl"
           }
          ],
          "scatterternary": [
           {
            "marker": {
             "colorbar": {
              "outlinewidth": 0,
              "ticks": ""
             }
            },
            "type": "scatterternary"
           }
          ],
          "surface": [
           {
            "colorbar": {
             "outlinewidth": 0,
             "ticks": ""
            },
            "colorscale": [
             [
              0,
              "#0d0887"
             ],
             [
              0.1111111111111111,
              "#46039f"
             ],
             [
              0.2222222222222222,
              "#7201a8"
             ],
             [
              0.3333333333333333,
              "#9c179e"
             ],
             [
              0.4444444444444444,
              "#bd3786"
             ],
             [
              0.5555555555555556,
              "#d8576b"
             ],
             [
              0.6666666666666666,
              "#ed7953"
             ],
             [
              0.7777777777777778,
              "#fb9f3a"
             ],
             [
              0.8888888888888888,
              "#fdca26"
             ],
             [
              1,
              "#f0f921"
             ]
            ],
            "type": "surface"
           }
          ],
          "table": [
           {
            "cells": {
             "fill": {
              "color": "#EBF0F8"
             },
             "line": {
              "color": "white"
             }
            },
            "header": {
             "fill": {
              "color": "#C8D4E3"
             },
             "line": {
              "color": "white"
             }
            },
            "type": "table"
           }
          ]
         },
         "layout": {
          "annotationdefaults": {
           "arrowcolor": "#2a3f5f",
           "arrowhead": 0,
           "arrowwidth": 1
          },
          "autotypenumbers": "strict",
          "coloraxis": {
           "colorbar": {
            "outlinewidth": 0,
            "ticks": ""
           }
          },
          "colorscale": {
           "diverging": [
            [
             0,
             "#8e0152"
            ],
            [
             0.1,
             "#c51b7d"
            ],
            [
             0.2,
             "#de77ae"
            ],
            [
             0.3,
             "#f1b6da"
            ],
            [
             0.4,
             "#fde0ef"
            ],
            [
             0.5,
             "#f7f7f7"
            ],
            [
             0.6,
             "#e6f5d0"
            ],
            [
             0.7,
             "#b8e186"
            ],
            [
             0.8,
             "#7fbc41"
            ],
            [
             0.9,
             "#4d9221"
            ],
            [
             1,
             "#276419"
            ]
           ],
           "sequential": [
            [
             0,
             "#0d0887"
            ],
            [
             0.1111111111111111,
             "#46039f"
            ],
            [
             0.2222222222222222,
             "#7201a8"
            ],
            [
             0.3333333333333333,
             "#9c179e"
            ],
            [
             0.4444444444444444,
             "#bd3786"
            ],
            [
             0.5555555555555556,
             "#d8576b"
            ],
            [
             0.6666666666666666,
             "#ed7953"
            ],
            [
             0.7777777777777778,
             "#fb9f3a"
            ],
            [
             0.8888888888888888,
             "#fdca26"
            ],
            [
             1,
             "#f0f921"
            ]
           ],
           "sequentialminus": [
            [
             0,
             "#0d0887"
            ],
            [
             0.1111111111111111,
             "#46039f"
            ],
            [
             0.2222222222222222,
             "#7201a8"
            ],
            [
             0.3333333333333333,
             "#9c179e"
            ],
            [
             0.4444444444444444,
             "#bd3786"
            ],
            [
             0.5555555555555556,
             "#d8576b"
            ],
            [
             0.6666666666666666,
             "#ed7953"
            ],
            [
             0.7777777777777778,
             "#fb9f3a"
            ],
            [
             0.8888888888888888,
             "#fdca26"
            ],
            [
             1,
             "#f0f921"
            ]
           ]
          },
          "colorway": [
           "#636efa",
           "#EF553B",
           "#00cc96",
           "#ab63fa",
           "#FFA15A",
           "#19d3f3",
           "#FF6692",
           "#B6E880",
           "#FF97FF",
           "#FECB52"
          ],
          "font": {
           "color": "#2a3f5f"
          },
          "geo": {
           "bgcolor": "white",
           "lakecolor": "white",
           "landcolor": "white",
           "showlakes": true,
           "showland": true,
           "subunitcolor": "#C8D4E3"
          },
          "hoverlabel": {
           "align": "left"
          },
          "hovermode": "closest",
          "mapbox": {
           "style": "light"
          },
          "paper_bgcolor": "white",
          "plot_bgcolor": "white",
          "polar": {
           "angularaxis": {
            "gridcolor": "#EBF0F8",
            "linecolor": "#EBF0F8",
            "ticks": ""
           },
           "bgcolor": "white",
           "radialaxis": {
            "gridcolor": "#EBF0F8",
            "linecolor": "#EBF0F8",
            "ticks": ""
           }
          },
          "scene": {
           "xaxis": {
            "backgroundcolor": "white",
            "gridcolor": "#DFE8F3",
            "gridwidth": 2,
            "linecolor": "#EBF0F8",
            "showbackground": true,
            "ticks": "",
            "zerolinecolor": "#EBF0F8"
           },
           "yaxis": {
            "backgroundcolor": "white",
            "gridcolor": "#DFE8F3",
            "gridwidth": 2,
            "linecolor": "#EBF0F8",
            "showbackground": true,
            "ticks": "",
            "zerolinecolor": "#EBF0F8"
           },
           "zaxis": {
            "backgroundcolor": "white",
            "gridcolor": "#DFE8F3",
            "gridwidth": 2,
            "linecolor": "#EBF0F8",
            "showbackground": true,
            "ticks": "",
            "zerolinecolor": "#EBF0F8"
           }
          },
          "shapedefaults": {
           "line": {
            "color": "#2a3f5f"
           }
          },
          "ternary": {
           "aaxis": {
            "gridcolor": "#DFE8F3",
            "linecolor": "#A2B1C6",
            "ticks": ""
           },
           "baxis": {
            "gridcolor": "#DFE8F3",
            "linecolor": "#A2B1C6",
            "ticks": ""
           },
           "bgcolor": "white",
           "caxis": {
            "gridcolor": "#DFE8F3",
            "linecolor": "#A2B1C6",
            "ticks": ""
           }
          },
          "title": {
           "x": 0.05
          },
          "xaxis": {
           "automargin": true,
           "gridcolor": "#EBF0F8",
           "linecolor": "#EBF0F8",
           "ticks": "",
           "title": {
            "standoff": 15
           },
           "zerolinecolor": "#EBF0F8",
           "zerolinewidth": 2
          },
          "yaxis": {
           "automargin": true,
           "gridcolor": "#EBF0F8",
           "linecolor": "#EBF0F8",
           "ticks": "",
           "title": {
            "standoff": 15
           },
           "zerolinecolor": "#EBF0F8",
           "zerolinewidth": 2
          }
         }
        },
        "title": {
         "text": "Forecast for New Merchant Count"
        },
        "xaxis": {
         "title": {
          "text": "Date"
         }
        },
        "yaxis": {
         "title": {
          "text": "Value"
         }
        }
       }
      }
     },
     "metadata": {},
     "output_type": "display_data"
    }
   ],
   "source": [
    "take_df = df[df['software_product'] == 'Retail']\n",
    "anomalies_result = detect_stl_anomalies(take_df, date_col='txn_date', metric_col='active_merchant', threshold=2.5, period=7, start_date='2024-01-01', end_date=today)\n",
    "forecast_df, model = forecast_with_prophet(anomalies_result, date_col='ds', metric_col='y', predict_periods=60, train_start='2024-01-01', train_end=today)\n",
    "\n",
    "fig_forecast = plot_forecast_line(forecast_df, title=\"Forecast for New Merchant Count\")\n",
    "forecast_df.head(1000000)\n",
    "fig_forecast.show()"
   ]
  },
  {
   "cell_type": "code",
   "execution_count": null,
   "id": "23eaecf6",
   "metadata": {},
   "outputs": [],
   "source": [
    "forecast_df.head(1000000)"
   ]
  }
 ],
 "metadata": {
  "kernelspec": {
   "display_name": ".venv",
   "language": "python",
   "name": "python3"
  },
  "language_info": {
   "codemirror_mode": {
    "name": "ipython",
    "version": 3
   },
   "file_extension": ".py",
   "mimetype": "text/x-python",
   "name": "python",
   "nbconvert_exporter": "python",
   "pygments_lexer": "ipython3",
   "version": "3.13.2"
  }
 },
 "nbformat": 4,
 "nbformat_minor": 5
}
